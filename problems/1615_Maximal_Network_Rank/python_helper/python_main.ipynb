{
 "cells": [
  {
   "metadata": {},
   "cell_type": "markdown",
   "source": [
    "# 1615. Maximal Rank\n",
    "\n",
    "There is an infrastructure of `n` cities with some number of `roads` connecting these cities. Each  $roads[i] = [a_i, b_i]$ indicates that there is a bidirectional road between cities $a_i$ and $b_i$.\n",
    "\n",
    "The network rank of two different cities is defined as the total number of directly connected roads to either city. If a road is directly connected to both cities, it is only counted once.\n",
    "\n",
    "The maximal network rank of the infrastructure is the maximum network rank of all pairs of different cities.\n",
    "\n",
    "Given the integer `n` and the array `roads`, return the maximal network rank of the entire infrastructure.\n",
    "\n",
    "\n",
    "\n",
    "## Example 1:\n",
    "\n",
    "Input: n = 4, roads = [[0,1],[0,3],[1,2],[1,3]]\n",
    "\n",
    "Output: 4\n",
    "\n",
    "Explanation: The network rank of cities 0 and 1 is 4 as there are 4 roads that are connected to either 0 or 1. The road between 0 and 1 is only counted once.\n",
    "\n",
    "## Example 2:\n",
    "\n",
    "Input: n = 5, roads = [[0,1],[0,3],[1,2],[1,3],[2,3],[2,4]]\n",
    "\n",
    "Output: 5\n",
    "\n",
    "Explanation: There are 5 roads that are connected to cities 1 or 2.\n",
    "\n",
    "## Example 3:\n",
    "\n",
    "\n",
    "Input: n = 8, roads = [[0,1],[1,2],[2,3],[2,4],[5,6],[5,7]]\n",
    "\n",
    "Output: 5\n",
    "\n",
    "Explanation: The network rank of 2 and 5 is 5. Notice that all the cities do not have to be connected.\n",
    "\n",
    "## Constraints:\n",
    "\n",
    "* `2 <= n <= 100`\n",
    "* `0 <= roads.length <= n * (n - 1) / 2`\n",
    "* `roads[i].length == 2`\n",
    "* 0 <= $a_i$, $b_i$ <= n-1\n",
    "* $a_i$ != $b_i$\n",
    "* Each pair of cities has at most one road connecting them."
   ],
   "id": "7411e25efdfc1c9c"
  },
  {
   "cell_type": "code",
   "execution_count": null,
   "id": "initial_id",
   "metadata": {
    "collapsed": true
   },
   "outputs": [],
   "source": "from typing import *"
  },
  {
   "metadata": {},
   "cell_type": "code",
   "outputs": [],
   "execution_count": null,
   "source": [
    "class Solution:\n",
    "    def maximalNetworkRank(self, n: int, roads: List[List[int]]) -> int:\n",
    "        pass\n",
    "\n",
    "def main():\n",
    "    test_cases = {\n",
    "            \"1\": {\n",
    "                \"nums\": [1,1,1,2,2,3],\n",
    "                \"k\": 2,\n",
    "                \"expected\": [1,2],\n",
    "            },\n",
    "            \"2\": {\n",
    "                \"nums\": [1],\n",
    "                \"k\": 1,\n",
    "                \"expected\": [1],\n",
    "            },\n",
    "        }\n",
    "\n",
    "    solution = Solution()\n",
    "\n",
    "    for tk, targs in test_cases.items():\n",
    "        expected = targs.pop(\"expected\", None)\n",
    "        ret = solution.maximalNetworkRank(**targs, verbose=True)\n",
    "        if expected is not None:\n",
    "            passed = ret == expected\n",
    "        else:\n",
    "            passed = None\n",
    "        print(f\"test case {tk}: {targs}\\nReturned: {ret}, Expected: {expected}\\nPassed:{passed}\")\n",
    "\n",
    "main()"
   ],
   "id": "6840dc19821c28c4"
  }
 ],
 "metadata": {
  "kernelspec": {
   "display_name": "Python 3",
   "language": "python",
   "name": "python3"
  },
  "language_info": {
   "codemirror_mode": {
    "name": "ipython",
    "version": 2
   },
   "file_extension": ".py",
   "mimetype": "text/x-python",
   "name": "python",
   "nbconvert_exporter": "python",
   "pygments_lexer": "ipython2",
   "version": "2.7.6"
  }
 },
 "nbformat": 4,
 "nbformat_minor": 5
}
