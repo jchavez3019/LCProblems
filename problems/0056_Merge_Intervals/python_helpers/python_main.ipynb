{
 "cells": [
  {
   "metadata": {},
   "cell_type": "markdown",
   "source": [
    "# 56. Merge Intervals\n",
    "\n",
    "Given an array of intervals where intervals[i] = $[\\text{start}_i, \\text{end}_i]$, merge all overlapping intervals, and return an array of the non-overlapping intervals that cover all the intervals in the input.\n",
    "\n",
    "\n",
    "\n",
    "## Example 1:\n",
    "\n",
    "Input: intervals = [[1,3],[2,6],[8,10],[15,18]]\n",
    "\n",
    "Output: [[1,6],[8,10],[15,18]]\n",
    "\n",
    "Explanation: Since intervals [1,3] and [2,6] overlap, merge them into [1,6].\n",
    "\n",
    "## Example 2:\n",
    "\n",
    "Input: intervals = [[1,4],[4,5]]\n",
    "\n",
    "Output: [[1,5]]\n",
    "\n",
    "Explanation: Intervals [1,4] and [4,5] are considered overlapping.\n",
    "\n",
    "\n",
    "Constraints:\n",
    "\n",
    "* 1 <= intervals.length <= $10^4$\n",
    "* intervals[i].length == 2\n",
    "* 0 <= $\\text{start}_i$ <= $\\text{end}_i$ <= $10^4$"
   ],
   "id": "49e8a610dd2c0595"
  },
  {
   "cell_type": "code",
   "id": "initial_id",
   "metadata": {
    "collapsed": true,
    "ExecuteTime": {
     "end_time": "2025-04-15T17:07:53.633622Z",
     "start_time": "2025-04-15T17:07:53.627277Z"
    }
   },
   "source": "from typing import *",
   "outputs": [],
   "execution_count": 1
  },
  {
   "metadata": {
    "ExecuteTime": {
     "end_time": "2025-04-15T17:07:53.705917Z",
     "start_time": "2025-04-15T17:07:53.697789Z"
    }
   },
   "cell_type": "code",
   "source": [
    "class Solution:\n",
    "    def merge(self, intervals: List[List[int]], verbose:bool=False) -> List[List[int]]:\n",
    "        n = len(intervals)\n",
    "        if n == 1:\n",
    "            return intervals\n",
    "        intervals.sort(key=lambda x : x[0]) # sorts the list in place by the first element in an interval\n",
    "        curr_int = intervals[0]\n",
    "        all_int = []\n",
    "        for i in range(1, n):\n",
    "            new_int = intervals[i]\n",
    "            if new_int[0] <= curr_int[1]:\n",
    "                # the intervals overlap, combine them\n",
    "                curr_int[1] = max(new_int[1], curr_int[1])\n",
    "            else:\n",
    "                # the intervals do not overlap\n",
    "                all_int.append(curr_int)\n",
    "                curr_int = new_int\n",
    "\n",
    "        all_int.append(curr_int)\n",
    "        return all_int\n",
    "\n",
    "def main():\n",
    "    test_cases = {\n",
    "        \"1\": {\n",
    "            \"intervals\": [[1,3],[2,6],[8,10],[15,18]],\n",
    "            \"expected\": [[1,6],[8,10],[15,18]]\n",
    "        },\n",
    "        \"2\": {\n",
    "            \"intervals\": [[1,4],[4,5]],\n",
    "            \"expected\": [[1,5]]\n",
    "        },\n",
    "        \"3\": {\n",
    "            \"intervals\": [[1,4],[2,3]],\n",
    "            \"expected\": [[1,4]]\n",
    "        }\n",
    "    }\n",
    "\n",
    "    solution = Solution()\n",
    "\n",
    "    for tk, targs in test_cases.items():\n",
    "        expected = targs.pop(\"expected\", None)\n",
    "        ret = solution.merge(**targs, verbose=True)\n",
    "        if expected is not None:\n",
    "            passed = expected == ret\n",
    "        else:\n",
    "            passed = None\n",
    "        print(f\"test case {tk}: {targs}\\nReturned: {ret}, Expected: {expected}\\nPassed:{passed}\")\n",
    "\n",
    "main()"
   ],
   "id": "e0ee999692a7103c",
   "outputs": [
    {
     "name": "stdout",
     "output_type": "stream",
     "text": [
      "test case 1: {'intervals': [[1, 6], [2, 6], [8, 10], [15, 18]]}\n",
      "Returned: [[1, 6], [8, 10], [15, 18]], Expected: [[1, 6], [8, 10], [15, 18]]\n",
      "Passed:True\n",
      "test case 2: {'intervals': [[1, 5], [4, 5]]}\n",
      "Returned: [[1, 5]], Expected: [[1, 5]]\n",
      "Passed:True\n",
      "test case 3: {'intervals': [[1, 4], [2, 3]]}\n",
      "Returned: [[1, 4]], Expected: [[1, 4]]\n",
      "Passed:True\n"
     ]
    }
   ],
   "execution_count": 2
  }
 ],
 "metadata": {
  "kernelspec": {
   "display_name": "Python 3",
   "language": "python",
   "name": "python3"
  },
  "language_info": {
   "codemirror_mode": {
    "name": "ipython",
    "version": 2
   },
   "file_extension": ".py",
   "mimetype": "text/x-python",
   "name": "python",
   "nbconvert_exporter": "python",
   "pygments_lexer": "ipython2",
   "version": "2.7.6"
  }
 },
 "nbformat": 4,
 "nbformat_minor": 5
}
