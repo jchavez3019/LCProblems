{
 "cells": [
  {
   "cell_type": "code",
   "execution_count": null,
   "id": "initial_id",
   "metadata": {
    "collapsed": true
   },
   "outputs": [],
   "source": [
    ""
   ]
  },
  {
   "metadata": {
    "ExecuteTime": {
     "end_time": "2025-04-28T18:08:25.158872Z",
     "start_time": "2025-04-28T18:08:25.154918Z"
    }
   },
   "cell_type": "code",
   "source": "from typing import *",
   "id": "6398d02303187cfa",
   "outputs": [],
   "execution_count": 1
  },
  {
   "metadata": {
    "ExecuteTime": {
     "end_time": "2025-04-28T18:08:38.252376Z",
     "start_time": "2025-04-28T18:08:38.101413Z"
    }
   },
   "cell_type": "code",
   "source": [
    "class Solution:\n",
    "    def searchMatrix(self, matrix: List[List[int]], target: int) -> bool:\n",
    "\n",
    "        n = len(matrix)\n",
    "        m = len(matrix[0])\n",
    "\n",
    "        def _bisect_2D(start_pos: Tuple[int, int], stop_pos: Tuple[int, int]) -> bool:\n",
    "            i_start, j_start = start_pos\n",
    "            i_stop, j_stop = stop_pos\n",
    "            i, j = (i_start + i_stop)//2, (j_start + j_stop)//2\n",
    "            last_pos = None\n",
    "            while (i, j) != last_pos:\n",
    "                last_pos = (i, j)\n",
    "\n",
    "                if matrix[i][j] == target:\n",
    "                    return True\n",
    "\n",
    "                if matrix[i][j] < target and (i+1 < i_stop and j+1 < j_stop) and matrix[i+1][j+1] > target:\n",
    "                    a_start_pos = (i+1, j_start)\n",
    "                    a_stop_pos = (i_stop, j+1)\n",
    "                    b_start_pos = (i_start, j+1)\n",
    "                    b_stop_pos = (i+1, j_stop)\n",
    "                    print(f\"recurse with a: \\n{matrix[a_start_pos[0]:a_stop_pos[0]][a_start_pos[1]:a_stop_pos[1]]}\")\n",
    "                    print(f\"recurse with b: \\n{matrix[b_start_pos[0]:b_stop_pos[0]][b_start_pos[1]:b_stop_pos[1]]}\")\n",
    "                    a = _bisect_2D(a_start_pos, a_stop_pos)\n",
    "                    b = _bisect_2D(b_start_pos, b_stop_pos)\n",
    "                    return a or b\n",
    "\n",
    "                elif matrix[i][j] < target:\n",
    "                    i, j = (i+i_stop)//2, (j+j_stop)//2\n",
    "\n",
    "                elif matrix[i][j] > target:\n",
    "                    i, j = (i_start + i) // 2, (j_start + j) // 2\n",
    "                else:\n",
    "                    raise ValueError\n",
    "\n",
    "            return False\n",
    "\n",
    "        return _bisect_2D((0, 0), (n, m))\n",
    "\n",
    "def main():\n",
    "    test_cases = {\n",
    "        \"1\": {\n",
    "            \"matrix\": [[1,4,7,11,15],[2,5,8,12,19],[3,6,9,16,22],[10,13,14,17,24],[18,21,23,26,30]],\n",
    "            \"target\": 5,\n",
    "            \"expected\": True,\n",
    "        },\n",
    "        \"2\": {\n",
    "            \"matrix\": [[1,4,7,11,15],[2,5,8,12,19],[3,6,9,16,22],[10,13,14,17,24],[18,21,23,26,30]],\n",
    "            \"target\": 20,\n",
    "            \"expected\": False,\n",
    "        },\n",
    "    }\n",
    "\n",
    "    solution = Solution()\n",
    "\n",
    "    for tk, targs in test_cases.items():\n",
    "        expected = targs.pop(\"expected\", None)\n",
    "        ret = solution.searchMatrix(**targs, verbose=True)\n",
    "        if expected is not None:\n",
    "            passed = ret == expected\n",
    "        else:\n",
    "            passed = None\n",
    "        print(f\"test case {tk}: {targs}\\nReturned: {ret}, Expected: {expected}\\nPassed:{passed}\")\n",
    "\n",
    "\n",
    "main()"
   ],
   "id": "3651ea0f52862606",
   "outputs": [
    {
     "ename": "TypeError",
     "evalue": "Solution.searchMatrix() got an unexpected keyword argument 'verbose'",
     "output_type": "error",
     "traceback": [
      "\u001B[0;31m---------------------------------------------------------------------------\u001B[0m",
      "\u001B[0;31mTypeError\u001B[0m                                 Traceback (most recent call last)",
      "Cell \u001B[0;32mIn[3], line 67\u001B[0m\n\u001B[1;32m     63\u001B[0m             passed \u001B[38;5;241m=\u001B[39m \u001B[38;5;28;01mNone\u001B[39;00m\n\u001B[1;32m     64\u001B[0m         \u001B[38;5;28mprint\u001B[39m(\u001B[38;5;124mf\u001B[39m\u001B[38;5;124m\"\u001B[39m\u001B[38;5;124mtest case \u001B[39m\u001B[38;5;132;01m{\u001B[39;00mtk\u001B[38;5;132;01m}\u001B[39;00m\u001B[38;5;124m: \u001B[39m\u001B[38;5;132;01m{\u001B[39;00mtargs\u001B[38;5;132;01m}\u001B[39;00m\u001B[38;5;130;01m\\n\u001B[39;00m\u001B[38;5;124mReturned: \u001B[39m\u001B[38;5;132;01m{\u001B[39;00mret\u001B[38;5;132;01m}\u001B[39;00m\u001B[38;5;124m, Expected: \u001B[39m\u001B[38;5;132;01m{\u001B[39;00mexpected\u001B[38;5;132;01m}\u001B[39;00m\u001B[38;5;130;01m\\n\u001B[39;00m\u001B[38;5;124mPassed:\u001B[39m\u001B[38;5;132;01m{\u001B[39;00mpassed\u001B[38;5;132;01m}\u001B[39;00m\u001B[38;5;124m\"\u001B[39m)\n\u001B[0;32m---> 67\u001B[0m \u001B[43mmain\u001B[49m\u001B[43m(\u001B[49m\u001B[43m)\u001B[49m\n",
      "Cell \u001B[0;32mIn[3], line 59\u001B[0m, in \u001B[0;36mmain\u001B[0;34m()\u001B[0m\n\u001B[1;32m     57\u001B[0m \u001B[38;5;28;01mfor\u001B[39;00m tk, targs \u001B[38;5;129;01min\u001B[39;00m test_cases\u001B[38;5;241m.\u001B[39mitems():\n\u001B[1;32m     58\u001B[0m     expected \u001B[38;5;241m=\u001B[39m targs\u001B[38;5;241m.\u001B[39mpop(\u001B[38;5;124m\"\u001B[39m\u001B[38;5;124mexpected\u001B[39m\u001B[38;5;124m\"\u001B[39m, \u001B[38;5;28;01mNone\u001B[39;00m)\n\u001B[0;32m---> 59\u001B[0m     ret \u001B[38;5;241m=\u001B[39m \u001B[43msolution\u001B[49m\u001B[38;5;241;43m.\u001B[39;49m\u001B[43msearchMatrix\u001B[49m\u001B[43m(\u001B[49m\u001B[38;5;241;43m*\u001B[39;49m\u001B[38;5;241;43m*\u001B[39;49m\u001B[43mtargs\u001B[49m\u001B[43m,\u001B[49m\u001B[43m \u001B[49m\u001B[43mverbose\u001B[49m\u001B[38;5;241;43m=\u001B[39;49m\u001B[38;5;28;43;01mTrue\u001B[39;49;00m\u001B[43m)\u001B[49m\n\u001B[1;32m     60\u001B[0m     \u001B[38;5;28;01mif\u001B[39;00m expected \u001B[38;5;129;01mis\u001B[39;00m \u001B[38;5;129;01mnot\u001B[39;00m \u001B[38;5;28;01mNone\u001B[39;00m:\n\u001B[1;32m     61\u001B[0m         passed \u001B[38;5;241m=\u001B[39m ret \u001B[38;5;241m==\u001B[39m expected\n",
      "\u001B[0;31mTypeError\u001B[0m: Solution.searchMatrix() got an unexpected keyword argument 'verbose'"
     ]
    }
   ],
   "execution_count": 3
  }
 ],
 "metadata": {
  "kernelspec": {
   "display_name": "Python 3",
   "language": "python",
   "name": "python3"
  },
  "language_info": {
   "codemirror_mode": {
    "name": "ipython",
    "version": 2
   },
   "file_extension": ".py",
   "mimetype": "text/x-python",
   "name": "python",
   "nbconvert_exporter": "python",
   "pygments_lexer": "ipython2",
   "version": "2.7.6"
  }
 },
 "nbformat": 4,
 "nbformat_minor": 5
}
