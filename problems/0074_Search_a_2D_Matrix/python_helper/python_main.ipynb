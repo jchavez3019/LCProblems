{
 "cells": [
  {
   "cell_type": "code",
   "id": "initial_id",
   "metadata": {
    "collapsed": true,
    "ExecuteTime": {
     "end_time": "2025-06-13T20:42:07.548712Z",
     "start_time": "2025-06-13T20:42:07.543081Z"
    }
   },
   "source": "from typing import *",
   "outputs": [],
   "execution_count": 1
  },
  {
   "metadata": {
    "ExecuteTime": {
     "end_time": "2025-06-13T20:42:07.732324Z",
     "start_time": "2025-06-13T20:42:07.722114Z"
    }
   },
   "cell_type": "code",
   "source": [
    "class Solution:\n",
    "    def searchMatrix(self, matrix: List[List[int]], target: int, verbose: bool = False) -> bool:\n",
    "        m = len(matrix) # number of rows\n",
    "        n = len(matrix[0]) # number of columns\n",
    "\n",
    "        ptr = [m - 1, 0] # start our search at the bottom left\n",
    "\n",
    "        while ptr[0] >= 0 and ptr[1] < n:\n",
    "            # iterate while our pointer is in range\n",
    "\n",
    "            # get the value of the current position we are in\n",
    "            val = matrix[ptr[0]][ptr[1]]\n",
    "\n",
    "            if val == target:\n",
    "                # we have found our target, return True\n",
    "                return True\n",
    "            elif val < target:\n",
    "                # Value is less than the target. It must be that all elements defined in the sub-matrix\n",
    "                # with top-left corner (0, 0) and bottom-right corner (i, j) are less than our equal to\n",
    "                # our value, so we should advance to the right.\n",
    "\n",
    "                # In other words, we need to increase our value.\n",
    "                ptr[1] += 1\n",
    "            else:\n",
    "                # Value is greater than the target. We already know that all elements defined in the\n",
    "                # sub-matrix with top-left corner (0, 0) and bottom-right corner (i, j-1) are less than\n",
    "                # our equal to our value. But our value at (i, j) is too large. We should move upwards\n",
    "                # as that value is guaranteed to be smaller or equal to our current value.\n",
    "\n",
    "                # In our words, we need to decrease our value.\n",
    "                ptr[0] -= 1\n",
    "\n",
    "        # Our pointer became out of range. The target value did not exist in the matrix.\n",
    "        return False\n",
    "\n",
    "def main():\n",
    "    test_cases = {\n",
    "        \"1\": {\n",
    "            \"matrix\": [[1,3,5,7],[10,11,16,20],[23,30,34,60]],\n",
    "            \"target\": 3,\n",
    "            \"expected\": True,\n",
    "        },\n",
    "        \"2\": {\n",
    "            \"matrix\": [[1,3,5,7],[10,11,16,20],[23,30,34,60]],\n",
    "            \"target\": 13,\n",
    "            \"expected\": False,\n",
    "        },\n",
    "    }\n",
    "\n",
    "    solution = Solution()\n",
    "\n",
    "    for tk, targs in test_cases.items():\n",
    "        expected = targs.pop(\"expected\", None)\n",
    "        ret = solution.searchMatrix(**targs, verbose=True)\n",
    "        if expected is not None:\n",
    "            passed = ret == expected\n",
    "        else:\n",
    "            passed = None\n",
    "        print(f\"test case {tk}: {targs}\\nReturned: {ret}, Expected: {expected}\\nPassed:{passed}\\n\")\n",
    "\n",
    "\n",
    "main()"
   ],
   "id": "d9ddf31f4d1bba3c",
   "outputs": [
    {
     "name": "stdout",
     "output_type": "stream",
     "text": [
      "test case 1: {'matrix': [[1, 3, 5, 7], [10, 11, 16, 20], [23, 30, 34, 60]], 'target': 3}\n",
      "Returned: True, Expected: True\n",
      "Passed:True\n",
      "\n",
      "test case 2: {'matrix': [[1, 3, 5, 7], [10, 11, 16, 20], [23, 30, 34, 60]], 'target': 13}\n",
      "Returned: False, Expected: False\n",
      "Passed:True\n",
      "\n"
     ]
    }
   ],
   "execution_count": 2
  }
 ],
 "metadata": {
  "kernelspec": {
   "display_name": "Python 3",
   "language": "python",
   "name": "python3"
  },
  "language_info": {
   "codemirror_mode": {
    "name": "ipython",
    "version": 2
   },
   "file_extension": ".py",
   "mimetype": "text/x-python",
   "name": "python",
   "nbconvert_exporter": "python",
   "pygments_lexer": "ipython2",
   "version": "2.7.6"
  }
 },
 "nbformat": 4,
 "nbformat_minor": 5
}
