{
 "cells": [
  {
   "metadata": {},
   "cell_type": "markdown",
   "source": [
    "# 3. Longest Substring Without Repeating Characters\n",
    "\n",
    "Given a string s, find the length of the longest substring without duplicate characters.\n",
    "\n",
    "\n",
    "\n",
    "## Example 1:\n",
    "\n",
    "Input: s = \"abcabcbb\"\n",
    "\n",
    "Output: 3\n",
    "\n",
    "Explanation: The answer is \"abc\", with the length of 3.\n",
    "\n",
    "## Example 2:\n",
    "\n",
    "Input: s = \"bbbbb\"\n",
    "\n",
    "Output: 1\n",
    "\n",
    "Explanation: The answer is \"b\", with the length of 1.\n",
    "\n",
    "## Example 3:\n",
    "\n",
    "Input: s = \"pwwkew\"\n",
    "\n",
    "Output: 3\n",
    "\n",
    "Explanation: The answer is \"wke\", with the length of 3.\n",
    "\n",
    "Notice that the answer must be a substring, \"pwke\" is a subsequence and not a substring.\n",
    "\n",
    "\n",
    "## Constraints:\n",
    "\n",
    "* $0 <= s.length <= 5 * 10^4$\n",
    "* s consists of English letters, digits, symbols and spaces."
   ],
   "id": "b86732f3ebc74fc9"
  },
  {
   "cell_type": "code",
   "id": "initial_id",
   "metadata": {
    "collapsed": true,
    "ExecuteTime": {
     "end_time": "2025-04-17T22:14:12.709871Z",
     "start_time": "2025-04-17T22:14:12.707256Z"
    }
   },
   "source": [
    "from typing import *\n",
    "from collections import defaultdict"
   ],
   "outputs": [],
   "execution_count": 11
  },
  {
   "metadata": {
    "ExecuteTime": {
     "end_time": "2025-04-17T22:14:33.352066Z",
     "start_time": "2025-04-17T22:14:33.345453Z"
    }
   },
   "cell_type": "code",
   "source": [
    "class Solution:\n",
    "    def lengthOfLongestSubstring(self, s: str, verbose: bool = False) -> int:\n",
    "        n = len(s)\n",
    "        if n == 0:\n",
    "            # base case\n",
    "            return 0\n",
    "\n",
    "        # Create a dictionary to look up the element of an index. Default idx is -1\n",
    "        idx_dict = defaultdict(lambda: -1)\n",
    "\n",
    "        idx_dict[s[0]] = 0\n",
    "        start = 0  # start idx of our current substring\n",
    "        max_len = 1 # length of maximal substring seen thus far\n",
    "\n",
    "        for i in range(1, n):\n",
    "            c = s[i]\n",
    "\n",
    "            if idx_dict[c] - start > -1:\n",
    "                # The index of the character is after the start idx\n",
    "                # of our current substring. This indicates that the character\n",
    "                # has been repeated in our current substring. We must start\n",
    "                # a new substring after this repeated character.\n",
    "                start = idx_dict[c] + 1\n",
    "\n",
    "            # Update the index of the character based on our current substring\n",
    "            idx_dict[c] = i\n",
    "\n",
    "            # update the maximal length if possible\n",
    "            max_len = max(max_len, i + 1 - start)\n",
    "\n",
    "        return max_len\n",
    "\n",
    "def main():\n",
    "    test_cases = {\n",
    "            \"1\": {\n",
    "                \"s\": \"abcabcbb\",\n",
    "                \"expected\": 3\n",
    "            },\n",
    "            \"2\": {\n",
    "                \"s\": \"bbbbb\",\n",
    "                \"expected\": 1\n",
    "            },\n",
    "            \"3\": {\n",
    "                \"s\": \"pwwkew\",\n",
    "                \"expected\": 3\n",
    "            },\n",
    "            \"4\": {\n",
    "                \"s\": \"abba\",\n",
    "                \"expected\": 2\n",
    "            }\n",
    "        }\n",
    "\n",
    "    solution = Solution()\n",
    "\n",
    "    for tk, targs in test_cases.items():\n",
    "        expected = targs.pop(\"expected\", None)\n",
    "        ret = solution.lengthOfLongestSubstring(**targs, verbose=True)\n",
    "        if expected is not None:\n",
    "            passed = ret == expected\n",
    "        else:\n",
    "            passed = None\n",
    "        print(f\"test case {tk}: {targs}\\nReturned: {ret}, Expected: {expected}\\nPassed:{passed}\")\n",
    "\n",
    "main()"
   ],
   "id": "bd89733352305edd",
   "outputs": [
    {
     "name": "stdout",
     "output_type": "stream",
     "text": [
      "test case 1: {'s': 'abcabcbb'}\n",
      "Returned: 3, Expected: 3\n",
      "Passed:True\n",
      "test case 2: {'s': 'bbbbb'}\n",
      "Returned: 1, Expected: 1\n",
      "Passed:True\n",
      "test case 3: {'s': 'pwwkew'}\n",
      "Returned: 3, Expected: 3\n",
      "Passed:True\n",
      "test case 4: {'s': 'abba'}\n",
      "Returned: 2, Expected: 2\n",
      "Passed:True\n"
     ]
    }
   ],
   "execution_count": 13
  }
 ],
 "metadata": {
  "kernelspec": {
   "display_name": "Python 3",
   "language": "python",
   "name": "python3"
  },
  "language_info": {
   "codemirror_mode": {
    "name": "ipython",
    "version": 2
   },
   "file_extension": ".py",
   "mimetype": "text/x-python",
   "name": "python",
   "nbconvert_exporter": "python",
   "pygments_lexer": "ipython2",
   "version": "2.7.6"
  }
 },
 "nbformat": 4,
 "nbformat_minor": 5
}
