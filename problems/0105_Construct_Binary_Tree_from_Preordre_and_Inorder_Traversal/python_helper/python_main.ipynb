{
 "cells": [
  {
   "metadata": {},
   "cell_type": "markdown",
   "source": [
    "# 105. Construct Binary Tree from Preorder and Inorder Traversal\n",
    "\n",
    "Given two integer arrays `preorder` and `inorder` where `preorder` is the preorder traversal of a binary tree and `inorder` is the inorder traversal of the same tree, construct and return the binary tree.\n",
    "\n",
    "## Example 1:\n",
    "\n",
    "Input: preorder = [3,9,20,15,7], inorder = [9,3,15,20,7]\n",
    "Output: [3,9,20,null,null,15,7]\n",
    "\n",
    "## Example 2:\n",
    "\n",
    "Input: preorder = [-1], inorder = [-1]\n",
    "Output: [-1]\n",
    "\n",
    "\n",
    "## Constraints:\n",
    "\n",
    "* `1 <= preorder.length <= 3000`\n",
    "* `inorder.length == preorder.length`\n",
    "* `-3000 <= preorder[i], inorder[i] <= 3000`\n",
    "* `preorder` and `inorder` consist of unique values.\n",
    "* Each value of `inorder` also appears in `preorder`.\n",
    "* `preorder` is guaranteed to be the preorder traversal of the tree.\n",
    "* `inorder` is guaranteed to be the inorder traversal of the tree."
   ],
   "id": "cfd7e66d1818ab61"
  },
  {
   "cell_type": "code",
   "id": "initial_id",
   "metadata": {
    "collapsed": true,
    "ExecuteTime": {
     "end_time": "2025-04-16T18:48:12.006819Z",
     "start_time": "2025-04-16T18:48:11.814439Z"
    }
   },
   "source": "from typing import *",
   "outputs": [],
   "execution_count": 6
  },
  {
   "metadata": {
    "ExecuteTime": {
     "end_time": "2025-04-16T18:48:12.015281Z",
     "start_time": "2025-04-16T18:48:12.011614Z"
    }
   },
   "cell_type": "code",
   "source": [
    "# Definition for a binary tree node.\n",
    "class TreeNode:\n",
    "    def __init__(self, val=0, left=None, right=None):\n",
    "        self.val = val\n",
    "        self.left = left\n",
    "        self.right = right"
   ],
   "id": "9e2a46ac3569ad85",
   "outputs": [],
   "execution_count": 7
  },
  {
   "metadata": {},
   "cell_type": "markdown",
   "source": "# Preorder Traversal Algorithm:",
   "id": "941c9fcb5018466b"
  },
  {
   "metadata": {
    "ExecuteTime": {
     "end_time": "2025-04-16T18:48:12.063779Z",
     "start_time": "2025-04-16T18:48:12.059592Z"
    }
   },
   "cell_type": "code",
   "source": [
    "def preorder_traversal(root: TreeNode, verbose: bool=False)->List[int]:\n",
    "    \"\"\"\n",
    "    Given a binary tree, return a preorder traversal array of the values.\n",
    "    :param root:        Root node of the binary tree.\n",
    "    :param verbose:     If True, prints additional information.\n",
    "    :return:            Resulting traversal array.\n",
    "    \"\"\"\n",
    "    stack = [root]\n",
    "    preorder_arr = []\n",
    "    while len(stack) > 0:\n",
    "        node = stack.pop()\n",
    "        # process current node\n",
    "        if verbose: print(node.val)\n",
    "        preorder_arr.append(node.val)\n",
    "        if node.right:\n",
    "            # push right node to be processed later\n",
    "            stack.append(node.right)\n",
    "        if node.left:\n",
    "            # push left node to be processed next\n",
    "            stack.append(node.left)\n",
    "    return preorder_arr"
   ],
   "id": "f3ffd53f8ec7c816",
   "outputs": [],
   "execution_count": 8
  },
  {
   "metadata": {},
   "cell_type": "markdown",
   "source": "# Inorder Traversal Algorithm",
   "id": "b4bda8b856acbe8b"
  },
  {
   "metadata": {
    "ExecuteTime": {
     "end_time": "2025-04-16T18:48:12.112092Z",
     "start_time": "2025-04-16T18:48:12.107240Z"
    }
   },
   "cell_type": "code",
   "source": [
    "def inorder_traversal(root: TreeNode, verbose: bool=False)->List[int]:\n",
    "    \"\"\"\n",
    "    Given a binary tree, return an inorder traversal array of the values.\n",
    "    :param root:        Root node of the binary tree.\n",
    "    :param verbose:     If True, prints additional information.\n",
    "    :return:            Resulting traversal array.\n",
    "    \"\"\"\n",
    "    stack = [(root, False)] # (node, process)\n",
    "    # if proces = False, this node is to be traversed\n",
    "    # if process = True, this node has already been traversed,\n",
    "    # and it is now time to process it\n",
    "    inorder_arr = []\n",
    "    while len(stack) > 0:\n",
    "        node, process = stack.pop()\n",
    "\n",
    "        if process:\n",
    "            # left node has been processed, now process this node\n",
    "            if verbose: print(node.val)\n",
    "            inorder_arr.append(node.val)\n",
    "        else:\n",
    "            if node.right:\n",
    "                # push right node to be traversed later\n",
    "                stack.append((node.right, False))\n",
    "            # push current node to be processed later but before the right node\n",
    "            stack.append((node, True))\n",
    "            if node.left:\n",
    "                # push the left node to be traversed next\n",
    "                stack.append((node.left, False))\n",
    "    return inorder_arr"
   ],
   "id": "2e8a8c8bd1eef618",
   "outputs": [],
   "execution_count": 9
  },
  {
   "metadata": {
    "ExecuteTime": {
     "end_time": "2025-04-16T18:48:12.195522Z",
     "start_time": "2025-04-16T18:48:12.163667Z"
    }
   },
   "cell_type": "code",
   "source": [
    "class Solution:\n",
    "    def buildTree(self, preorder: List[int], inorder: List[int], verbose: bool=False) -> Optional[TreeNode]:\n",
    "        \"\"\"\n",
    "        Given a preorder and inorder traversal of a tree, return the binary tree representation.\n",
    "        :param preorder: Array corresponding to the preorder traversal of the binary tree.\n",
    "        :param inorder:  Array corresponding to the inorder traversal of the binary tree.\n",
    "        :param verbose:  If True, prints additional information (not implemented in this function).\n",
    "        :return:         The corresponding binary tree representation.\n",
    "        \"\"\"\n",
    "        n = len(preorder)\n",
    "        if n == 1:\n",
    "            # base case\n",
    "            return TreeNode(preorder[0])\n",
    "\n",
    "        # Short for \"next_unprocessed_idx_preorder\". The immediate child of the current node being built\n",
    "        # must be the very first unprocessed node in the preorder array. We consider a node processed\n",
    "        # once it has been first created, not once its children have been set.\n",
    "        nuip = 0\n",
    "\n",
    "        def _getSplit(val: int, arr_range: Tuple[int, int])->Tuple[Tuple[int, int], Tuple[int, int]]:\n",
    "            \"\"\"\n",
    "            We search for a value in the `inorder` array within some specified range.\n",
    "\n",
    "            We then return the left index range (arr_range[0], arr_range[0] + idx) where idx is the index of the val\n",
    "            in inorder[arr_range[0], arr_range[1]]. We must add arr_range[0] to correct the right index.\n",
    "\n",
    "            Likewise, we also return the right index range (arr_range[0] + idx, arr_range[1]).\n",
    "\n",
    "            Example: Given array [6, 7, 8, 9, 10] with range (1, 5) and value 8. l_range would be (1, 2), the indices\n",
    "            of the elements completely left of 8 and within the given range. r_range would be (3, 5), the indices of\n",
    "            the elements completely right of 8 and within the given range.\n",
    "\n",
    "            :param val:         Value to search for in inorder[arr_range[0]:arr_range[1]]\n",
    "            :param arr_range:   Range to search in the inorder array.\n",
    "            :return l_range:    Range of indices to the left of val\n",
    "            :return r_range:    Range of indices to the right of val\n",
    "            \"\"\"\n",
    "            # unpack indices of the range. `l_idx` is inclusive, `r_idx` is exclusive\n",
    "            l_idx, r_idx = arr_range\n",
    "            # find the value in the subarray in `inorder`\n",
    "            idx = inorder[l_idx:r_idx].index(val)\n",
    "            # form the ranges to the left and right of the value\n",
    "            l_range = (l_idx, l_idx + idx)\n",
    "            r_range = (l_idx + idx + 1, r_idx)\n",
    "            return l_range, r_range\n",
    "\n",
    "        def _formTree(i: int, arr_range: Tuple[int, int])->TreeNode:\n",
    "            \"\"\"\n",
    "            Main recursive function used to build a tree whose root node\n",
    "            is given as `preorder[i]`. The tree is built using the `preorder` and\n",
    "            `inorder` arrays as well as a global `nuip` counter to help with tracking\n",
    "            the next immediate children.\n",
    "            :param i:           Index into preorder which gives the root node of this tree\n",
    "            :param arr_range:   This is an index range into the `inorder` array where\n",
    "                                inorder[arr_range[0], arr_range[1]] are the set of nodes\n",
    "                                that correspond to the left and right children of this current node.\n",
    "            :return:\n",
    "            \"\"\"\n",
    "            nonlocal nuip # make nonlocal since it will be modified on each invocation\n",
    "\n",
    "            # Initialize the node with empty children. It is considered processed once the node\n",
    "            # is initialized, not later once the node has been formed as a tree. Thus, we\n",
    "            # increment nuip as well.\n",
    "            val = preorder[i]\n",
    "            node = TreeNode(val)\n",
    "            nuip += 1\n",
    "\n",
    "            # Parse arr_range where left_range is the subset of nodes strictly to the left\n",
    "            # of this node, and right_range is the subset of nodes strictly to the right\n",
    "            # of this node.\n",
    "            left_range, right_range = _getSplit(val, arr_range)\n",
    "\n",
    "            if left_range[0] < left_range[1]:\n",
    "                # non-empty range, we must form the tree of the left child\n",
    "                node.left = _formTree(nuip, left_range)\n",
    "\n",
    "            if right_range[0] < right_range[1]:\n",
    "                # non-empty range, we must form the tree of the right child\n",
    "                node.right = _formTree(nuip, right_range)\n",
    "\n",
    "            # this tree has been fully formed, return it\n",
    "            return node\n",
    "\n",
    "        # return the root node whose tree is fully formed\n",
    "        return _formTree(0, (0, n))\n",
    "\n",
    "def main():\n",
    "    test_cases = {\n",
    "        \"1\": {\n",
    "            \"preorder\": [3,9,20,15,7],\n",
    "            \"inorder\": [9,3,15,20,7],\n",
    "        },\n",
    "        \"2\": {\n",
    "            \"preorder\": [-1],\n",
    "            \"inorder\": [-1],\n",
    "        },\n",
    "    }\n",
    "\n",
    "    solution = Solution()\n",
    "\n",
    "    for tk, targs in test_cases.items():\n",
    "        # get ground truth arrays\n",
    "        preorder_gt = targs.get(\"preorder\")\n",
    "        inorder_gt = targs.get(\"inorder\")\n",
    "        # build the tree\n",
    "        ret = solution.buildTree(**targs, verbose=True)\n",
    "        # get the preorder and inorder arrays from this tree\n",
    "        preorder_ret = preorder_traversal(ret, verbose=False)\n",
    "        inorder_ret = inorder_traversal(ret, verbose=False)\n",
    "        # check that the preorder and inorder array formed from this tree\n",
    "        # match the ground truth arrays\n",
    "        passed = (preorder_gt == preorder_ret) and (inorder_gt == inorder_ret)\n",
    "        # print the results\n",
    "        print(f\"test case {tk}: {targs}\\nPassed:{passed}\")\n",
    "\n",
    "main()"
   ],
   "id": "83b854674a0c2396",
   "outputs": [
    {
     "name": "stdout",
     "output_type": "stream",
     "text": [
      "test case 1: {'preorder': [3, 9, 20, 15, 7], 'inorder': [9, 3, 15, 20, 7]}\n",
      "Passed:True\n",
      "test case 2: {'preorder': [-1], 'inorder': [-1]}\n",
      "Passed:True\n"
     ]
    }
   ],
   "execution_count": 10
  },
  {
   "metadata": {},
   "cell_type": "markdown",
   "source": [
    "The following is the solution given by Leetcode which has a time and memory complexity of $\\mathcal{O}(N)$. Notice how they use a hash-map to get the left and right indices in constant time, whereas you use the `_getSplit` method to search for the value. Besides this, the Leetcode solution and your solution are the exact same.\n",
    "\n",
    "However, you should notice that there are trade-offs between your solution and the LC solution. Although your solution is slower (due to searching for the idx range instead of using a hash-map), you can handle the case where the values in the binary tree are *not unique*. The solution offered by LC is faster because it returns an idx in constant time, however, *their implementation fails if the values in the binary tree are not unique*."
   ],
   "id": "9deb4357ebb9c065"
  },
  {
   "metadata": {
    "ExecuteTime": {
     "end_time": "2025-04-16T18:48:12.246719Z",
     "start_time": "2025-04-16T18:48:12.244970Z"
    }
   },
   "cell_type": "code",
   "source": [
    "class Solution:\n",
    "    def buildTree(self, preorder: List[int], inorder: List[int]) -> TreeNode:\n",
    "\n",
    "        def array_to_tree(left, right):\n",
    "            nonlocal preorder_index\n",
    "            # if there are no elements to construct the tree\n",
    "            if left > right:\n",
    "                return None\n",
    "\n",
    "            # select the preorder_index element as the root and increment it\n",
    "            root_value = preorder[preorder_index]\n",
    "            root = TreeNode(root_value)\n",
    "\n",
    "            preorder_index += 1\n",
    "\n",
    "            # build left and right subtree\n",
    "            # excluding inorder_index_map[root_value] element because it's the root\n",
    "            root.left = array_to_tree(left, inorder_index_map[root_value] - 1)\n",
    "            root.right = array_to_tree(inorder_index_map[root_value] + 1, right)\n",
    "\n",
    "            return root\n",
    "\n",
    "        preorder_index = 0\n",
    "\n",
    "        # build a hashmap to store value -> its index relations\n",
    "        inorder_index_map = {}\n",
    "        for index, value in enumerate(inorder):\n",
    "            inorder_index_map[value] = index\n",
    "\n",
    "        return array_to_tree(0, len(preorder) - 1)"
   ],
   "id": "e43e7b31681c2e16",
   "outputs": [],
   "execution_count": null
  }
 ],
 "metadata": {
  "kernelspec": {
   "display_name": "Python 3",
   "language": "python",
   "name": "python3"
  },
  "language_info": {
   "codemirror_mode": {
    "name": "ipython",
    "version": 2
   },
   "file_extension": ".py",
   "mimetype": "text/x-python",
   "name": "python",
   "nbconvert_exporter": "python",
   "pygments_lexer": "ipython2",
   "version": "2.7.6"
  }
 },
 "nbformat": 4,
 "nbformat_minor": 5
}
