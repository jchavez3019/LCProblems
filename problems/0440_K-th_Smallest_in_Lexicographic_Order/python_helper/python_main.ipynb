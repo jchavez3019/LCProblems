{
 "cells": [
  {
   "cell_type": "markdown",
   "id": "d7c6a59b",
   "metadata": {},
   "source": [
    "\n",
    "<div class=\"elfjS\" data-track-load=\"description_content\"><p>Given two integers <code>n</code> and <code>k</code>, return <em>the</em> <code>k<sup>th</sup></code> <em>lexicographically smallest integer in the range</em> <code>[1, n]</code>.</p>\n",
    "\n",
    "<p>&nbsp;</p>\n",
    "<p><strong class=\"example\">Example 1:</strong></p>\n",
    "\n",
    "<pre><strong>Input:</strong> n = 13, k = 2\n",
    "<strong>Output:</strong> 10\n",
    "<strong>Explanation:</strong> The lexicographical order is [1, 10, 11, 12, 13, 2, 3, 4, 5, 6, 7, 8, 9], so the second smallest number is 10.\n",
    "</pre>\n",
    "\n",
    "<p><strong class=\"example\">Example 2:</strong></p>\n",
    "\n",
    "<pre><strong>Input:</strong> n = 1, k = 1\n",
    "<strong>Output:</strong> 1\n",
    "</pre>\n",
    "\n",
    "<p>&nbsp;</p>\n",
    "<p><strong>Constraints:</strong></p>\n",
    "\n",
    "<ul>\n",
    "\t<li><code>1 &lt;= k &lt;= n &lt;= 10<sup>9</sup></code></li>\n",
    "</ul>\n",
    "</div>\n"
   ]
  },
  {
   "cell_type": "code",
   "id": "3491c737",
   "metadata": {
    "ExecuteTime": {
     "end_time": "2025-06-09T19:43:57.421712Z",
     "start_time": "2025-06-09T19:43:57.418789Z"
    }
   },
   "source": [
    "from typing import *"
   ],
   "outputs": [],
   "execution_count": 1
  },
  {
   "cell_type": "code",
   "id": "ee37e0b8",
   "metadata": {
    "ExecuteTime": {
     "end_time": "2025-06-09T19:43:57.482808Z",
     "start_time": "2025-06-09T19:43:57.477379Z"
    }
   },
   "source": [
    "class Solution:\n",
    "    def findKthNumber(self, n: int, k: int, verbose: bool = False) -> int:\n",
    "        def _countSteps(prefix1, prefix2):\n",
    "            \"\"\"\n",
    "            Return the number of children we would skip if we advanced from\n",
    "            curr to curr + 1 instead of exploring curr's children\n",
    "            \"\"\"\n",
    "            steps = 0\n",
    "            while prefix1 <= n:\n",
    "                # prefix1 is in range, add its number of children to steps\n",
    "                steps += min(n+1, prefix2) - prefix1\n",
    "                # advance both prefixes\n",
    "                prefix1 *= 10\n",
    "                prefix2 *= 10\n",
    "            return steps\n",
    "\n",
    "        curr = 1 # init current number as smallest lex. number in [1, n]\n",
    "        k -= 1 # we have the smallest number\n",
    "        while k > 0:\n",
    "            # iterate until we have found the k'th smallest number\n",
    "\n",
    "            # since we have a prefix tree, step is the number of elements we skip\n",
    "            # if we jump from curr number to curr + 1\n",
    "            step = _countSteps(curr, curr+1)\n",
    "            if step <= k:\n",
    "                # if the step is leq than k, we can immediately skip all these children\n",
    "                # advancing to curr +1\n",
    "                curr += 1\n",
    "                k -= step\n",
    "            else:\n",
    "                # if we step, we will miss the kth smallest. we must traverse the first\n",
    "                # child by making curr the prefix and appending 0. this single advancement\n",
    "                # also means that we update k by 1\n",
    "                curr *= 10\n",
    "                k -= 1\n",
    "\n",
    "        return curr\n",
    "\n",
    "def main():\n",
    "    test_cases = {\n",
    "        \"1\": {\n",
    "            \"n\": 13,\n",
    "            \"k\": 2,\n",
    "            \"expected\": 10,\n",
    "        },\n",
    "        \"2\": {\n",
    "             \"n\": 1,\n",
    "            \"k\": 1,\n",
    "            \"expected\": 1,\n",
    "        },\n",
    "        \"3\": {\n",
    "             \"n\": 7747794,\n",
    "            \"k\": 5857460,\n",
    "            \"expected\": 6271710,\n",
    "        }\n",
    "    }\n",
    "\n",
    "    solution = Solution()\n",
    "\n",
    "    for tk, targs in test_cases.items():\n",
    "        expected = targs.pop(\"expected\", None)\n",
    "        ret = solution.findKthNumber(**targs, verbose=True)\n",
    "        if expected is not None:\n",
    "            passed = ret == expected\n",
    "        else:\n",
    "            passed = None\n",
    "        print(f\"test case {tk}: {targs}\\nReturned: {ret}, Expected: {expected}\\nPassed:{passed}\\n\")\n",
    "\n",
    "\n",
    "main()\n"
   ],
   "outputs": [
    {
     "name": "stdout",
     "output_type": "stream",
     "text": [
      "test case 1: {'n': 13, 'k': 2}\n",
      "Returned: 10, Expected: 10\n",
      "Passed:True\n",
      "\n",
      "test case 2: {'n': 1, 'k': 1}\n",
      "Returned: 1, Expected: 1\n",
      "Passed:True\n",
      "\n",
      "test case 3: {'n': 7747794, 'k': 5857460}\n",
      "Returned: 6271710, Expected: 6271710\n",
      "Passed:True\n",
      "\n"
     ]
    }
   ],
   "execution_count": 2
  }
 ],
 "metadata": {},
 "nbformat": 4,
 "nbformat_minor": 5
}
