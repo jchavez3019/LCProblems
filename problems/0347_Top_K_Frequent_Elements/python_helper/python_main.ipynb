{
 "cells": [
  {
   "metadata": {},
   "cell_type": "markdown",
   "source": [
    "# 347. Top K Frequent Elements\n",
    "\n",
    "Given an integer array `nums` and an integer `k`, return the `k` most frequent elements. You may return the answer in any order.\n",
    "\n",
    "## Example 1:\n",
    "\n",
    "Input: nums = [1,1,1,2,2,3], k = 2\n",
    "\n",
    "Output: [1,2]\n",
    "\n",
    "## Example 2:\n",
    "\n",
    "Input: nums = [1], k = 1\n",
    "\n",
    "Output: [1]\n",
    "\n",
    "## Constraints:\n",
    "\n",
    "* $1 <= nums.length <= 10^5$\n",
    "* $-10^4 <= nums[i] <= 10^4$\n",
    "* `k` is in the range [1, the number of unique elements in the array].\n",
    "* It is guaranteed that the answer is unique.\n",
    "* Follow up: Your algorithm's time complexity must be better than O(n log n), where n is the array's size."
   ],
   "id": "107850295db0537e"
  },
  {
   "cell_type": "code",
   "id": "initial_id",
   "metadata": {
    "collapsed": true,
    "ExecuteTime": {
     "end_time": "2025-04-20T01:48:27.759689Z",
     "start_time": "2025-04-20T01:48:27.756276Z"
    }
   },
   "source": [
    "from typing import *\n",
    "import heapq\n",
    "from collections import defaultdict"
   ],
   "outputs": [],
   "execution_count": 11
  },
  {
   "metadata": {
    "ExecuteTime": {
     "end_time": "2025-04-20T01:48:27.815026Z",
     "start_time": "2025-04-20T01:48:27.810510Z"
    }
   },
   "cell_type": "code",
   "source": [
    "class Solution:\n",
    "    def topKFrequent(self, nums: List[int], k: int, verbose: bool = False) -> List[int]:\n",
    "\n",
    "        n = len(nums)\n",
    "\n",
    "        if n == 1:\n",
    "            # base case\n",
    "            return [nums[0]]\n",
    "\n",
    "        # construct min heap in O(n)\n",
    "        heap = [(-1, -1)] * k\n",
    "        heapq.heapify(heap)\n",
    "\n",
    "        # sort nums in O(nlogn)\n",
    "        nums.sort()\n",
    "        lastNum = nums[0]\n",
    "        count = 1\n",
    "\n",
    "        def _process_last():\n",
    "            # process last number\n",
    "            if count > heap[0][0]:\n",
    "                # our count is greater than the smallest count in the heap,\n",
    "                # pop the heap and push the new element\n",
    "                heapq.heapreplace(heap, (count, lastNum))\n",
    "\n",
    "        for i in range(1, n):\n",
    "            num = nums[i]\n",
    "            if num == lastNum:\n",
    "                count += 1\n",
    "            else:\n",
    "                # process last number\n",
    "                _process_last()\n",
    "                lastNum = num\n",
    "                count = 1\n",
    "\n",
    "        # process last element in nums\n",
    "        _process_last()\n",
    "\n",
    "        # get the k most frequent values (in descending order)\n",
    "        k_nums = [heap[k-1-i][1] for i in range(k)]\n",
    "        return k_nums\n",
    "\n",
    "def main():\n",
    "    test_cases = {\n",
    "            \"1\": {\n",
    "                \"nums\": [1,1,1,2,2,3],\n",
    "                \"k\": 2,\n",
    "                \"expected\": [1,2],\n",
    "            },\n",
    "            \"2\": {\n",
    "                \"nums\": [1],\n",
    "                \"k\": 1,\n",
    "                \"expected\": [1],\n",
    "            },\n",
    "        }\n",
    "\n",
    "    solution = Solution()\n",
    "\n",
    "    for tk, targs in test_cases.items():\n",
    "        expected = targs.pop(\"expected\", None)\n",
    "        ret = solution.topKFrequent(**targs, verbose=True)\n",
    "        if expected is not None:\n",
    "            passed = ret == expected\n",
    "        else:\n",
    "            passed = None\n",
    "        print(f\"test case {tk}: {targs}\\nReturned: {ret}, Expected: {expected}\\nPassed:{passed}\")\n",
    "\n",
    "main()"
   ],
   "id": "32650ffdb90c9f11",
   "outputs": [
    {
     "name": "stdout",
     "output_type": "stream",
     "text": [
      "test case 1: {'nums': [1, 1, 1, 2, 2, 3], 'k': 2}\n",
      "Returned: [1, 2], Expected: [1, 2]\n",
      "Passed:True\n",
      "test case 2: {'nums': [1], 'k': 1}\n",
      "Returned: [1], Expected: [1]\n",
      "Passed:True\n"
     ]
    }
   ],
   "execution_count": 12
  },
  {
   "metadata": {},
   "cell_type": "markdown",
   "source": "Now, we work to be faster than O(NlogN)",
   "id": "e59ca6a76a2efb16"
  },
  {
   "metadata": {
    "ExecuteTime": {
     "end_time": "2025-04-20T01:48:27.877715Z",
     "start_time": "2025-04-20T01:48:27.873561Z"
    }
   },
   "cell_type": "code",
   "source": [
    "class Solution:\n",
    "    def topKFrequent(self, nums: List[int], k: int, verbose: bool = False) -> List[int]:\n",
    "\n",
    "        n = len(nums)\n",
    "\n",
    "        if n == 1:\n",
    "            # base case\n",
    "            return [nums[0]]\n",
    "        if k == n:\n",
    "            # base case\n",
    "            # return all numbers since k <= number of unique elements in nums\n",
    "            return nums\n",
    "\n",
    "        # key is the number, value is how frequently it appears in the list\n",
    "        frequency_map = defaultdict(lambda : 0)\n",
    "        for num in nums: frequency_map[num] += 1\n",
    "\n",
    "        # Heapify the dictionary and return the k largest elements.\n",
    "        # We will iterate over the keys of the dictionary. For each key, we will call frequency_map.get(key)\n",
    "        # or lambda x : frequency_map[k] to get us the value associated with the key. This value is now the\n",
    "        # element's priority in the heap.\n",
    "        # Since we iterate, it costs O(klogk) to build the heap, and O(klogk) to return the k largest elements.\n",
    "        k_nums = heapq.nlargest(k, frequency_map.keys(), key=lambda x : frequency_map[x])\n",
    "\n",
    "        #  the single nlargest function above essentially build a max-heap in O(k), then pops k elements\n",
    "        #  from the heap where a pop takes O(logk), so a total of O(klogk) to pop all the elements\n",
    "\n",
    "        return k_nums\n",
    "\n",
    "def main():\n",
    "    test_cases = {\n",
    "            \"1\": {\n",
    "                \"nums\": [1,1,1,2,2,3],\n",
    "                \"k\": 2,\n",
    "                \"expected\": [1,2],\n",
    "            },\n",
    "            \"2\": {\n",
    "                \"nums\": [1],\n",
    "                \"k\": 1,\n",
    "                \"expected\": [1],\n",
    "            },\n",
    "        }\n",
    "\n",
    "    solution = Solution()\n",
    "\n",
    "    for tk, targs in test_cases.items():\n",
    "        expected = targs.pop(\"expected\", None)\n",
    "        ret = solution.topKFrequent(**targs, verbose=True)\n",
    "        if expected is not None:\n",
    "            passed = ret == expected\n",
    "        else:\n",
    "            passed = None\n",
    "        print(f\"test case {tk}: {targs}\\nReturned: {ret}, Expected: {expected}\\nPassed:{passed}\")\n",
    "\n",
    "main()"
   ],
   "id": "23c535ae8026eac5",
   "outputs": [
    {
     "name": "stdout",
     "output_type": "stream",
     "text": [
      "test case 1: {'nums': [1, 1, 1, 2, 2, 3], 'k': 2}\n",
      "Returned: [1, 2], Expected: [1, 2]\n",
      "Passed:True\n",
      "test case 2: {'nums': [1], 'k': 1}\n",
      "Returned: [1], Expected: [1]\n",
      "Passed:True\n"
     ]
    }
   ],
   "execution_count": 13
  }
 ],
 "metadata": {
  "kernelspec": {
   "display_name": "Python 3",
   "language": "python",
   "name": "python3"
  },
  "language_info": {
   "codemirror_mode": {
    "name": "ipython",
    "version": 2
   },
   "file_extension": ".py",
   "mimetype": "text/x-python",
   "name": "python",
   "nbconvert_exporter": "python",
   "pygments_lexer": "ipython2",
   "version": "2.7.6"
  }
 },
 "nbformat": 4,
 "nbformat_minor": 5
}
