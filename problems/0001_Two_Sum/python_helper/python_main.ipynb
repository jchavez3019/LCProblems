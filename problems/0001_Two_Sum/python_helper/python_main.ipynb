{
 "cells": [
  {
   "metadata": {},
   "cell_type": "markdown",
   "source": [
    "Given an array of integers nums and an integer target, return indices of the two numbers such that they add up to target.\n",
    "\n",
    "You may assume that each input would have exactly one solution, and you may not use the same element twice.\n",
    "\n",
    "You can return the answer in any order.\n",
    "\n",
    "\n",
    "\n",
    "Example 1:\n",
    "\n",
    "Input: nums = [2,7,11,15], target = 9\n",
    "Output: [0,1]\n",
    "Explanation: Because nums[0] + nums[1] == 9, we return [0, 1].\n",
    "Example 2:\n",
    "\n",
    "Input: nums = [3,2,4], target = 6\n",
    "Output: [1,2]\n",
    "Example 3:\n",
    "\n",
    "Input: nums = [3,3], target = 6\n",
    "Output: [0,1]\n",
    "\n",
    "\n",
    "Constraints:\n",
    "\n",
    "2 <= nums.length <= 10^4\n",
    "-10^9 <= nums[i] <= 10^9\n",
    "-10^9 <= target <= 10^9\n",
    "Only one valid answer exists.\n",
    "\n",
    "\n",
    "Follow-up: Can you come up with an algorithm that is less than O(n2) time complexity?"
   ],
   "id": "471d60af4f2f33ff"
  },
  {
   "metadata": {},
   "cell_type": "code",
   "outputs": [],
   "execution_count": null,
   "source": "from typing import *",
   "id": "b252d17c3b5e6fb4"
  },
  {
   "cell_type": "code",
   "execution_count": null,
   "id": "initial_id",
   "metadata": {
    "collapsed": true
   },
   "outputs": [],
   "source": [
    "class Solution:\n",
    "    def twoSum(self, nums: List[int], target: int) -> List[int]:\n",
    "        visited = {}\n",
    "        for i, n in enumerate(nums):\n",
    "            check = target - n\n",
    "            if check in visited:\n",
    "                return [visited[check], i]\n",
    "            else:\n",
    "                visited[n] = i"
   ]
  },
  {
   "metadata": {},
   "cell_type": "markdown",
   "source": "Now, lets assume there does not exist one solution, and that we must find all unique combinations in the list that sum to the target. A combination may not use the same element twice (combination without replacement). Return the numbers themselves, not the indices.",
   "id": "b4621e33c3afff69"
  },
  {
   "metadata": {},
   "cell_type": "code",
   "outputs": [],
   "execution_count": null,
   "source": [
    "class Solution:\n",
    "    def twoSumCombination(self, nums: List[int], target: int) -> List[List[int]]:\n",
    "        visited = set()\n",
    "        combinations = set()\n",
    "        for n in nums:\n",
    "            check = target - n\n",
    "            if check in visited:\n",
    "                combinations &= sorted([check, n])\n",
    "            else:\n",
    "                visited &= n\n",
    "\n",
    "        return list(combinations)"
   ],
   "id": "9ea3093e2f48ca08"
  }
 ],
 "metadata": {
  "kernelspec": {
   "display_name": "Python 3",
   "language": "python",
   "name": "python3"
  },
  "language_info": {
   "codemirror_mode": {
    "name": "ipython",
    "version": 2
   },
   "file_extension": ".py",
   "mimetype": "text/x-python",
   "name": "python",
   "nbconvert_exporter": "python",
   "pygments_lexer": "ipython2",
   "version": "2.7.6"
  }
 },
 "nbformat": 4,
 "nbformat_minor": 5
}
