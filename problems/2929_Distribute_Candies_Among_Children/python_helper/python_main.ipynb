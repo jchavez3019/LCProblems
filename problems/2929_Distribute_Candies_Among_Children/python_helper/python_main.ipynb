{
 "cells": [
  {
   "cell_type": "markdown",
   "id": "af30cc9c",
   "metadata": {},
   "source": [
    "\n",
    "<div class=\"elfjS\" data-track-load=\"description_content\"><p>You are given two positive integers <code>n</code> and <code>limit</code>.</p>\n",
    "\n",
    "<p>Return <em>the <strong>total number</strong> of ways to distribute </em><code>n</code> <em>candies among </em><code>3</code><em> children such that no child gets more than </em><code>limit</code><em> candies.</em></p>\n",
    "\n",
    "<p>&nbsp;</p>\n",
    "<p><strong class=\"example\">Example 1:</strong></p>\n",
    "\n",
    "<pre><strong>Input:</strong> n = 5, limit = 2\n",
    "<strong>Output:</strong> 3\n",
    "<strong>Explanation:</strong> There are 3 ways to distribute 5 candies such that no child gets more than 2 candies: (1, 2, 2), (2, 1, 2) and (2, 2, 1).\n",
    "</pre>\n",
    "\n",
    "<p><strong class=\"example\">Example 2:</strong></p>\n",
    "\n",
    "<pre><strong>Input:</strong> n = 3, limit = 3\n",
    "<strong>Output:</strong> 10\n",
    "<strong>Explanation:</strong> There are 10 ways to distribute 3 candies such that no child gets more than 3 candies: (0, 0, 3), (0, 1, 2), (0, 2, 1), (0, 3, 0), (1, 0, 2), (1, 1, 1), (1, 2, 0), (2, 0, 1), (2, 1, 0) and (3, 0, 0).\n",
    "</pre>\n",
    "\n",
    "<p>&nbsp;</p>\n",
    "<p><strong>Constraints:</strong></p>\n",
    "\n",
    "<ul>\n",
    "\t<li><code>1 &lt;= n &lt;= 10<sup>6</sup></code></li>\n",
    "\t<li><code>1 &lt;= limit &lt;= 10<sup>6</sup></code></li>\n",
    "</ul>\n",
    "</div>\n"
   ]
  },
  {
   "cell_type": "code",
   "id": "81cc7bba",
   "metadata": {
    "ExecuteTime": {
     "end_time": "2025-06-03T18:41:56.418711Z",
     "start_time": "2025-06-03T18:41:56.415203Z"
    }
   },
   "source": [
    "from typing import *"
   ],
   "outputs": [],
   "execution_count": 1
  },
  {
   "cell_type": "code",
   "id": "60132b7c",
   "metadata": {
    "ExecuteTime": {
     "end_time": "2025-06-03T18:41:56.480852Z",
     "start_time": "2025-06-03T18:41:56.475728Z"
    }
   },
   "source": [
    "class Solution:\n",
    "    def distributeCandies(self, n: int, limit: int, verbose: bool = False) -> int:\n",
    "        comb = lambda x : (x * (x-1))//2 if x >= 0 else 0 # n choose 2\n",
    "        return comb(n+2) - 3*comb(n+2-(limit+1)) + 3*comb(n+2-2*(limit+1)) - comb(n+2-3*(limit+1))\n",
    "\n",
    "def main():\n",
    "    test_cases = {\n",
    "        \"1\": {\n",
    "            \"n\": 5,\n",
    "            \"limit\": 2,\n",
    "            \"expected\": 3,\n",
    "        },\n",
    "        \"2\": {\n",
    "            \"n\": 3,\n",
    "            \"limit\": 3,\n",
    "            \"expected\": 10,\n",
    "        },\n",
    "    }\n",
    "\n",
    "    solution = Solution()\n",
    "\n",
    "    for tk, targs in test_cases.items():\n",
    "        expected = targs.pop(\"expected\", None)\n",
    "        ret = solution.distributeCandies(**targs, verbose=True)\n",
    "        if expected is not None:\n",
    "            passed = ret == expected\n",
    "        else:\n",
    "            passed = None\n",
    "        print(f\"test case {tk}: {targs}\\nReturned: {ret}, Expected: {expected}\\nPassed:{passed}\\n\")\n",
    "\n",
    "\n",
    "main()\n"
   ],
   "outputs": [
    {
     "name": "stdout",
     "output_type": "stream",
     "text": [
      "test case 1: {'n': 5, 'limit': 2}\n",
      "Returned: 3, Expected: 3\n",
      "Passed:True\n",
      "\n",
      "test case 2: {'n': 3, 'limit': 3}\n",
      "Returned: 10, Expected: 10\n",
      "Passed:True\n",
      "\n"
     ]
    }
   ],
   "execution_count": 2
  }
 ],
 "metadata": {},
 "nbformat": 4,
 "nbformat_minor": 5
}
