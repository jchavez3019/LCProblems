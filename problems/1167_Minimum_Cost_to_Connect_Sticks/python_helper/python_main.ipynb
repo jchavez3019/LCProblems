{
 "cells": [
  {
   "metadata": {},
   "cell_type": "markdown",
   "source": [
    "<div class=\"elfjS\" data-track-load=\"description_content\"><p>You have some number of sticks with positive integer lengths. These lengths are given as an array&nbsp;<code>sticks</code>, where&nbsp;<code>sticks[i]</code>&nbsp;is the length of the&nbsp;<code>i<sup>th</sup></code>&nbsp;stick.</p>\n",
    "\n",
    "<p>You can connect any two sticks of lengths <code>x</code> and <code>y</code> into one stick&nbsp;by paying a cost of <code>x + y</code>. You must connect&nbsp;all the sticks until there is only one stick remaining.</p>\n",
    "\n",
    "<p>Return&nbsp;<em>the minimum cost of connecting all the given sticks into one stick in this way</em>.</p>\n",
    "\n",
    "<p>&nbsp;</p>\n",
    "<p><strong class=\"example\">Example 1:</strong></p>\n",
    "\n",
    "<pre><strong>Input:</strong> sticks = [2,4,3]\n",
    "<strong>Output:</strong> 14\n",
    "<strong>Explanation:</strong>&nbsp;You start with sticks = [2,4,3].\n",
    "1. Combine sticks 2 and 3 for a cost of 2 + 3 = 5. Now you have sticks = [5,4].\n",
    "2. Combine sticks 5 and 4 for a cost of 5 + 4 = 9. Now you have sticks = [9].\n",
    "There is only one stick left, so you are done. The total cost is 5 + 9 = 14.\n",
    "</pre>\n",
    "\n",
    "<p><strong class=\"example\">Example 2:</strong></p>\n",
    "\n",
    "<pre><strong>Input:</strong> sticks = [1,8,3,5]\n",
    "<strong>Output:</strong> 30\n",
    "<strong>Explanation:</strong> You start with sticks = [1,8,3,5].\n",
    "1. Combine sticks 1 and 3 for a cost of 1 + 3 = 4. Now you have sticks = [4,8,5].\n",
    "2. Combine sticks 4 and 5 for a cost of 4 + 5 = 9. Now you have sticks = [9,8].\n",
    "3. Combine sticks 9 and 8 for a cost of 9 + 8 = 17. Now you have sticks = [17].\n",
    "There is only one stick left, so you are done. The total cost is 4 + 9 + 17 = 30.\n",
    "</pre>\n",
    "\n",
    "<p><strong class=\"example\">Example 3:</strong></p>\n",
    "\n",
    "<pre><strong>Input:</strong> sticks = [5]\n",
    "<strong>Output:</strong> 0\n",
    "<strong>Explanation:</strong> There is only one stick, so you don't need to do anything. The total cost is 0.\n",
    "</pre>\n",
    "\n",
    "<p>&nbsp;</p>\n",
    "<p><strong>Constraints:</strong></p>\n",
    "\n",
    "<ul>\n",
    "\t<li><code><span>1 &lt;= sticks.length &lt;= 10<sup>4</sup></span></code></li>\n",
    "\t<li><code><span>1 &lt;= sticks[i] &lt;= 10<sup>4</sup></span></code></li>\n",
    "</ul>\n",
    "</div>"
   ],
   "id": "b1bbf06cd39c9b53"
  },
  {
   "cell_type": "code",
   "id": "initial_id",
   "metadata": {
    "collapsed": true,
    "ExecuteTime": {
     "end_time": "2025-06-16T17:09:07.765350Z",
     "start_time": "2025-06-16T17:09:07.759759Z"
    }
   },
   "source": [
    "from typing import *\n",
    "import heapq"
   ],
   "outputs": [],
   "execution_count": 1
  },
  {
   "metadata": {
    "ExecuteTime": {
     "end_time": "2025-06-16T17:09:07.804972Z",
     "start_time": "2025-06-16T17:09:07.793461Z"
    }
   },
   "cell_type": "code",
   "source": [
    "class Solution:\n",
    "    def connectSticks(self, sticks: List[int], verbose: bool = False) -> int:\n",
    "        n = len(sticks)\n",
    "        if n == 1:\n",
    "            # base case\n",
    "            return 0\n",
    "\n",
    "        heapq.heapify(sticks)\n",
    "        total_cost = 0\n",
    "        while len(sticks) > 1:\n",
    "            # minimize the total cost by always joining the two smallest sticks\n",
    "            a = heapq.heappop(sticks)\n",
    "            b = heapq.heappop(sticks)\n",
    "            cost = a + b\n",
    "            total_cost += cost\n",
    "            # push the newly formed stick back into the heap\n",
    "            heapq.heappush(sticks, cost)\n",
    "\n",
    "        return total_cost\n",
    "\n",
    "def main():\n",
    "    test_cases = {\n",
    "        \"1\": {\n",
    "            \"sticks\": [2,4,3],\n",
    "            \"expected\": 14,\n",
    "        },\n",
    "        \"2\": {\n",
    "            \"sticks\": [1,8,3,5],\n",
    "            \"expected\": 30,\n",
    "        },\n",
    "        \"3\": {\n",
    "            \"sticks\": [5],\n",
    "            \"expected\": 0,\n",
    "        },\n",
    "    }\n",
    "\n",
    "    solution = Solution()\n",
    "\n",
    "    for tk, targs in test_cases.items():\n",
    "        expected = targs.pop(\"expected\", None)\n",
    "        ret = solution.connectSticks(**targs, verbose=True)\n",
    "        if expected is not None:\n",
    "            passed = ret == expected\n",
    "        else:\n",
    "            passed = None\n",
    "        print(f\"test case {tk}: {targs}\\nReturned: {ret}, Expected: {expected}\\nPassed:{passed}\\n\")\n",
    "\n",
    "\n",
    "main()"
   ],
   "id": "daee0e607f396716",
   "outputs": [
    {
     "name": "stdout",
     "output_type": "stream",
     "text": [
      "test case 1: {'sticks': [9]}\n",
      "Returned: 14, Expected: 14\n",
      "Passed:True\n",
      "\n",
      "test case 2: {'sticks': [17]}\n",
      "Returned: 30, Expected: 30\n",
      "Passed:True\n",
      "\n",
      "test case 3: {'sticks': [5]}\n",
      "Returned: 0, Expected: 0\n",
      "Passed:True\n",
      "\n"
     ]
    }
   ],
   "execution_count": 2
  }
 ],
 "metadata": {
  "kernelspec": {
   "display_name": "Python 3",
   "language": "python",
   "name": "python3"
  },
  "language_info": {
   "codemirror_mode": {
    "name": "ipython",
    "version": 2
   },
   "file_extension": ".py",
   "mimetype": "text/x-python",
   "name": "python",
   "nbconvert_exporter": "python",
   "pygments_lexer": "ipython2",
   "version": "2.7.6"
  }
 },
 "nbformat": 4,
 "nbformat_minor": 5
}
