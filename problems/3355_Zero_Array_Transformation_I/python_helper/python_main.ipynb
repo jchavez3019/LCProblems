{
 "cells": [
  {
   "metadata": {},
   "cell_type": "markdown",
   "source": [
    "<div class=\"elfjS\" data-track-load=\"description_content\"><p>You are given an integer array <code>nums</code> of length <code>n</code> and a 2D array <code>queries</code>, where <code>queries[i] = [l<sub>i</sub>, r<sub>i</sub>]</code>.</p>\n",
    "\n",
    "<p>For each <code>queries[i]</code>:</p>\n",
    "\n",
    "<ul>\n",
    "\t<li>Select a <span data-keyword=\"subset\" class=\" cursor-pointer relative text-dark-blue-s text-sm\"><button type=\"button\" aria-haspopup=\"dialog\" aria-expanded=\"false\" aria-controls=\"radix-:rp:\" data-state=\"closed\" class=\"\">subset</button></span> of indices within the range <code>[l<sub>i</sub>, r<sub>i</sub>]</code> in <code>nums</code>.</li>\n",
    "\t<li>Decrement the values at the selected indices by 1.</li>\n",
    "</ul>\n",
    "\n",
    "<p>A <strong>Zero Array</strong> is an array where all elements are equal to 0.</p>\n",
    "\n",
    "<p>Return <code>true</code> if it is <em>possible</em> to transform <code>nums</code> into a <strong>Zero Array </strong>after processing all the queries sequentially, otherwise return <code>false</code>.</p>\n",
    "\n",
    "<p>&nbsp;</p>\n",
    "<p><strong class=\"example\">Example 1:</strong></p>\n",
    "\n",
    "<div class=\"example-block\">\n",
    "<p><strong>Input:</strong> <span class=\"example-io\">nums = [1,0,1], queries = [[0,2]]</span></p>\n",
    "\n",
    "<p><strong>Output:</strong> <span class=\"example-io\">true</span></p>\n",
    "\n",
    "<p><strong>Explanation:</strong></p>\n",
    "\n",
    "<ul>\n",
    "\t<li><strong>For i = 0:</strong>\n",
    "\n",
    "\t<ul>\n",
    "\t\t<li>Select the subset of indices as <code>[0, 2]</code> and decrement the values at these indices by 1.</li>\n",
    "\t\t<li>The array will become <code>[0, 0, 0]</code>, which is a Zero Array.</li>\n",
    "\t</ul>\n",
    "\t</li>\n",
    "</ul>\n",
    "</div>\n",
    "\n",
    "<p><strong class=\"example\">Example 2:</strong></p>\n",
    "\n",
    "<div class=\"example-block\">\n",
    "<p><strong>Input:</strong> <span class=\"example-io\">nums = [4,3,2,1], queries = [[1,3],[0,2]]</span></p>\n",
    "\n",
    "<p><strong>Output:</strong> <span class=\"example-io\">false</span></p>\n",
    "\n",
    "<p><strong>Explanation:</strong></p>\n",
    "\n",
    "<ul>\n",
    "\t<li><strong>For i = 0:</strong>\n",
    "\n",
    "\t<ul>\n",
    "\t\t<li>Select the subset of indices as <code>[1, 2, 3]</code> and decrement the values at these indices by 1.</li>\n",
    "\t\t<li>The array will become <code>[4, 2, 1, 0]</code>.</li>\n",
    "\t</ul>\n",
    "\t</li>\n",
    "\t<li><strong>For i = 1:</strong>\n",
    "\t<ul>\n",
    "\t\t<li>Select the subset of indices as <code>[0, 1, 2]</code> and decrement the values at these indices by 1.</li>\n",
    "\t\t<li>The array will become <code>[3, 1, 0, 0]</code>, which is not a Zero Array.</li>\n",
    "\t</ul>\n",
    "\t</li>\n",
    "</ul>\n",
    "</div>\n",
    "\n",
    "<p>&nbsp;</p>\n",
    "<p><strong>Constraints:</strong></p>\n",
    "\n",
    "<ul>\n",
    "\t<li><code>1 &lt;= nums.length &lt;= 10<sup>5</sup></code></li>\n",
    "\t<li><code>0 &lt;= nums[i] &lt;= 10<sup>5</sup></code></li>\n",
    "\t<li><code>1 &lt;= queries.length &lt;= 10<sup>5</sup></code></li>\n",
    "\t<li><code>queries[i].length == 2</code></li>\n",
    "\t<li><code>0 &lt;= l<sub>i</sub> &lt;= r<sub>i</sub> &lt; nums.length</code></li>\n",
    "</ul>\n",
    "</div>"
   ],
   "id": "7e563169230fca02"
  },
  {
   "cell_type": "code",
   "id": "initial_id",
   "metadata": {
    "collapsed": true,
    "ExecuteTime": {
     "end_time": "2025-05-23T00:39:35.700145Z",
     "start_time": "2025-05-23T00:39:35.695156Z"
    }
   },
   "source": "from typing import *",
   "outputs": [],
   "execution_count": 4
  },
  {
   "metadata": {
    "ExecuteTime": {
     "end_time": "2025-05-23T00:39:58.674184Z",
     "start_time": "2025-05-23T00:39:58.659706Z"
    }
   },
   "cell_type": "code",
   "source": [
    "class Solution:\n",
    "    def isZeroArray(self, nums: List[int], queries: List[List[int]], verbose: bool = False) -> bool:\n",
    "        n = len(nums)\n",
    "        delta = [0] * (n+1)\n",
    "        for q in queries:\n",
    "            l, r = q\n",
    "            delta[l] += 1\n",
    "            delta[r+1] -= 1\n",
    "\n",
    "        cum_sum = 0\n",
    "        for i in range(n):\n",
    "            cum_sum += delta[i]\n",
    "            if cum_sum < nums[i]:\n",
    "                return False\n",
    "\n",
    "        return True\n",
    "\n",
    "def main():\n",
    "    test_cases = {\n",
    "        \"1\": {\n",
    "            \"nums\": [1,0,1],\n",
    "            \"queries\": [[0,2]],\n",
    "            \"expected\": True,\n",
    "        },\n",
    "        \"2\": {\n",
    "            \"nums\": [4,3,2,1],\n",
    "            \"queries\": [[1,3],[0,2]],\n",
    "            \"expected\": False,\n",
    "        },\n",
    "    }\n",
    "\n",
    "    solution = Solution()\n",
    "\n",
    "    for tk, targs in test_cases.items():\n",
    "        expected = targs.pop(\"expected\", None)\n",
    "        ret = solution.isZeroArray(**targs, verbose=True)\n",
    "        if expected is not None:\n",
    "            passed = ret == expected\n",
    "        else:\n",
    "            passed = None\n",
    "        print(f\"test case {tk}: {targs}\\nReturned: {ret}, Expected: {expected}\\nPassed:{passed}\\n\")\n",
    "\n",
    "\n",
    "main()"
   ],
   "id": "18f06d680a936ea8",
   "outputs": [
    {
     "name": "stdout",
     "output_type": "stream",
     "text": [
      "test case 1: {'nums': [1, 0, 1], 'queries': [[0, 2]]}\n",
      "Returned: True, Expected: True\n",
      "Passed:True\n",
      "\n",
      "test case 2: {'nums': [4, 3, 2, 1], 'queries': [[1, 3], [0, 2]]}\n",
      "Returned: False, Expected: False\n",
      "Passed:True\n",
      "\n"
     ]
    }
   ],
   "execution_count": 7
  },
  {
   "metadata": {},
   "cell_type": "code",
   "outputs": [],
   "execution_count": null,
   "source": "",
   "id": "c416436b6a71054e"
  }
 ],
 "metadata": {
  "kernelspec": {
   "display_name": "Python 3",
   "language": "python",
   "name": "python3"
  },
  "language_info": {
   "codemirror_mode": {
    "name": "ipython",
    "version": 2
   },
   "file_extension": ".py",
   "mimetype": "text/x-python",
   "name": "python",
   "nbconvert_exporter": "python",
   "pygments_lexer": "ipython2",
   "version": "2.7.6"
  }
 },
 "nbformat": 4,
 "nbformat_minor": 5
}
