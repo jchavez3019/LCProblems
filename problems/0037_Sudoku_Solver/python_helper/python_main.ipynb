{
 "cells": [
  {
   "cell_type": "markdown",
   "id": "198da315",
   "metadata": {},
   "source": [
    "<div class=\"elfjS\" data-track-load=\"description_content\"><p>Write a program to solve a Sudoku puzzle by filling the empty cells.</p>\n",
    "\n",
    "<p>A sudoku solution must satisfy <strong>all of the following rules</strong>:</p>\n",
    "\n",
    "<ol>\n",
    "\t<li>Each of the digits <code>1-9</code> must occur exactly once in each row.</li>\n",
    "\t<li>Each of the digits <code>1-9</code> must occur exactly once in each column.</li>\n",
    "\t<li>Each of the digits <code>1-9</code> must occur exactly once in each of the 9 <code>3x3</code> sub-boxes of the grid.</li>\n",
    "</ol>\n",
    "\n",
    "<p>The <code>'.'</code> character indicates empty cells.</p>\n",
    "\n",
    "<p>&nbsp;</p>\n",
    "<p><strong class=\"example\">Example 1:</strong></p>\n",
    "<img src=\"https://upload.wikimedia.org/wikipedia/commons/thumb/f/ff/Sudoku-by-L2G-20050714.svg/250px-Sudoku-by-L2G-20050714.svg.png\" style=\"height: 250px; width: 250px;\">\n",
    "<pre><strong>Input:</strong> board = [[\"5\",\"3\",\".\",\".\",\"7\",\".\",\".\",\".\",\".\"],[\"6\",\".\",\".\",\"1\",\"9\",\"5\",\".\",\".\",\".\"],[\".\",\"9\",\"8\",\".\",\".\",\".\",\".\",\"6\",\".\"],[\"8\",\".\",\".\",\".\",\"6\",\".\",\".\",\".\",\"3\"],[\"4\",\".\",\".\",\"8\",\".\",\"3\",\".\",\".\",\"1\"],[\"7\",\".\",\".\",\".\",\"2\",\".\",\".\",\".\",\"6\"],[\".\",\"6\",\".\",\".\",\".\",\".\",\"2\",\"8\",\".\"],[\".\",\".\",\".\",\"4\",\"1\",\"9\",\".\",\".\",\"5\"],[\".\",\".\",\".\",\".\",\"8\",\".\",\".\",\"7\",\"9\"]]\n",
    "<strong>Output:</strong> [[\"5\",\"3\",\"4\",\"6\",\"7\",\"8\",\"9\",\"1\",\"2\"],[\"6\",\"7\",\"2\",\"1\",\"9\",\"5\",\"3\",\"4\",\"8\"],[\"1\",\"9\",\"8\",\"3\",\"4\",\"2\",\"5\",\"6\",\"7\"],[\"8\",\"5\",\"9\",\"7\",\"6\",\"1\",\"4\",\"2\",\"3\"],[\"4\",\"2\",\"6\",\"8\",\"5\",\"3\",\"7\",\"9\",\"1\"],[\"7\",\"1\",\"3\",\"9\",\"2\",\"4\",\"8\",\"5\",\"6\"],[\"9\",\"6\",\"1\",\"5\",\"3\",\"7\",\"2\",\"8\",\"4\"],[\"2\",\"8\",\"7\",\"4\",\"1\",\"9\",\"6\",\"3\",\"5\"],[\"3\",\"4\",\"5\",\"2\",\"8\",\"6\",\"1\",\"7\",\"9\"]]\n",
    "<strong>Explanation:</strong>&nbsp;The input board is shown above and the only valid solution is shown below:\n",
    "\n",
    "<img src=\"https://upload.wikimedia.org/wikipedia/commons/thumb/3/31/Sudoku-by-L2G-20050714_solution.svg/250px-Sudoku-by-L2G-20050714_solution.svg.png\" style=\"height: 250px; width: 250px;\">\n",
    "</pre>\n",
    "\n",
    "<p>&nbsp;</p>\n",
    "<p><strong>Constraints:</strong></p>\n",
    "\n",
    "<ul>\n",
    "\t<li><code>board.length == 9</code></li>\n",
    "\t<li><code>board[i].length == 9</code></li>\n",
    "\t<li><code>board[i][j]</code> is a digit or <code>'.'</code>.</li>\n",
    "\t<li>It is <strong>guaranteed</strong> that the input board has only one solution.</li>\n",
    "</ul>\n",
    "</div>\n"
   ]
  },
  {
   "cell_type": "code",
   "id": "126470a0",
   "metadata": {
    "ExecuteTime": {
     "end_time": "2025-05-30T02:10:30.075062Z",
     "start_time": "2025-05-30T02:10:30.072971Z"
    }
   },
   "source": [
    "from typing import *"
   ],
   "outputs": [],
   "execution_count": 6
  },
  {
   "cell_type": "code",
   "id": "e697c61d",
   "metadata": {
    "ExecuteTime": {
     "end_time": "2025-05-30T02:10:30.133765Z",
     "start_time": "2025-05-30T02:10:30.122879Z"
    }
   },
   "source": [
    "class Solution:\n",
    "    def solveSudoku(self, board: List[List[str]], verbose: bool = False) -> None:\n",
    "        \"\"\"\n",
    "        Do not return anything, modify board in-place instead.\n",
    "        \"\"\"\n",
    "        rbm = [0] * 9\n",
    "        cbm = [0] * 9\n",
    "        gbm = [0] * 9\n",
    "        is_fixed = [False] * 81\n",
    "        gbm_idx = lambda i, j : (i//3)*3 + (j//3)\n",
    "        first_bit_mask = 0x0001\n",
    "\n",
    "        # fill in the bit-masks with the fixed numbers on the board\n",
    "        for k in range(81):\n",
    "            i = k // 9\n",
    "            j = k % 9\n",
    "            char = board[i][j]\n",
    "            if char != \".\":\n",
    "                g = gbm_idx(i, j)\n",
    "                num = int(char) - 1\n",
    "                is_fixed[k] = True\n",
    "                rbm[i] |= 0x0001 << num\n",
    "                cbm[j] |= 0x0001 << num\n",
    "                gbm[g] |= 0x0001 << num\n",
    "\n",
    "        # lambda function that applies the bit mask\n",
    "        # the returned number will be 1 or 0\n",
    "        gv = lambda num, idx, bitset : (bitset[idx] >> num) & first_bit_mask\n",
    "\n",
    "        def backtracking(k):\n",
    "            if k >= 81:\n",
    "                # base case, we are out of range of the board\n",
    "                return True\n",
    "\n",
    "            if is_fixed[k]:\n",
    "                # this is a fixed element, move on to the next\n",
    "                return backtracking(k+1)\n",
    "\n",
    "            nonlocal rbm, cbm, gbm\n",
    "            i = k // 9\n",
    "            j = k % 9\n",
    "            g = gbm_idx(i, j)\n",
    "            for e in range(9):\n",
    "                if (gv(e, i, rbm) | gv(e, j, cbm) | gv(e, g, gbm)) == 0:\n",
    "                    rbm[i] |= 0x0001 << e\n",
    "                    cbm[j] |= 0x0001 << e\n",
    "                    gbm[g] |= 0x0001 << e\n",
    "                    if backtracking(k+1):\n",
    "                        board[i][j] = str(e + 1)\n",
    "                        return True\n",
    "                    else:\n",
    "                        rbm[i] &= ~(0x0001 << e)\n",
    "                        cbm[j] &= ~(0x0001 << e)\n",
    "                        gbm[g] &= ~(0x0001 << e)\n",
    "            return False\n",
    "        backtracking(0)\n",
    "\n",
    "def main():\n",
    "    test_cases = {\n",
    "        \"1\": {\n",
    "            \"board\": [[\"5\",\"3\",\".\",\".\",\"7\",\".\",\".\",\".\",\".\"],[\"6\",\".\",\".\",\"1\",\"9\",\"5\",\".\",\".\",\".\"],[\".\",\"9\",\"8\",\".\",\".\",\".\",\".\",\"6\",\".\"],[\"8\",\".\",\".\",\".\",\"6\",\".\",\".\",\".\",\"3\"],[\"4\",\".\",\".\",\"8\",\".\",\"3\",\".\",\".\",\"1\"],[\"7\",\".\",\".\",\".\",\"2\",\".\",\".\",\".\",\"6\"],[\".\",\"6\",\".\",\".\",\".\",\".\",\"2\",\"8\",\".\"],[\".\",\".\",\".\",\"4\",\"1\",\"9\",\".\",\".\",\"5\"],[\".\",\".\",\".\",\".\",\"8\",\".\",\".\",\"7\",\"9\"]],\n",
    "            \"expected\": [[\"5\",\"3\",\"4\",\"6\",\"7\",\"8\",\"9\",\"1\",\"2\"],[\"6\",\"7\",\"2\",\"1\",\"9\",\"5\",\"3\",\"4\",\"8\"],[\"1\",\"9\",\"8\",\"3\",\"4\",\"2\",\"5\",\"6\",\"7\"],[\"8\",\"5\",\"9\",\"7\",\"6\",\"1\",\"4\",\"2\",\"3\"],[\"4\",\"2\",\"6\",\"8\",\"5\",\"3\",\"7\",\"9\",\"1\"],[\"7\",\"1\",\"3\",\"9\",\"2\",\"4\",\"8\",\"5\",\"6\"],[\"9\",\"6\",\"1\",\"5\",\"3\",\"7\",\"2\",\"8\",\"4\"],[\"2\",\"8\",\"7\",\"4\",\"1\",\"9\",\"6\",\"3\",\"5\"],[\"3\",\"4\",\"5\",\"2\",\"8\",\"6\",\"1\",\"7\",\"9\"]],\n",
    "        },\n",
    "    }\n",
    "\n",
    "    solution = Solution()\n",
    "\n",
    "    for tk, targs in test_cases.items():\n",
    "        expected = targs.pop(\"expected\", None)\n",
    "        solution.solveSudoku(**targs, verbose=True)\n",
    "        ret = targs[\"board\"]\n",
    "        if expected is not None:\n",
    "            passed = ret == expected\n",
    "        else:\n",
    "            passed = None\n",
    "        print(f\"test case {tk}: {targs}\\nReturned: {ret}, Expected: {expected}\\nPassed:{passed}\\n\")\n",
    "\n",
    "\n",
    "main()"
   ],
   "outputs": [
    {
     "name": "stdout",
     "output_type": "stream",
     "text": [
      "test case 1: {'board': [['5', '3', '4', '6', '7', '8', '9', '1', '2'], ['6', '7', '2', '1', '9', '5', '3', '4', '8'], ['1', '9', '8', '3', '4', '2', '5', '6', '7'], ['8', '5', '9', '7', '6', '1', '4', '2', '3'], ['4', '2', '6', '8', '5', '3', '7', '9', '1'], ['7', '1', '3', '9', '2', '4', '8', '5', '6'], ['9', '6', '1', '5', '3', '7', '2', '8', '4'], ['2', '8', '7', '4', '1', '9', '6', '3', '5'], ['3', '4', '5', '2', '8', '6', '1', '7', '9']]}\n",
      "Returned: [['5', '3', '4', '6', '7', '8', '9', '1', '2'], ['6', '7', '2', '1', '9', '5', '3', '4', '8'], ['1', '9', '8', '3', '4', '2', '5', '6', '7'], ['8', '5', '9', '7', '6', '1', '4', '2', '3'], ['4', '2', '6', '8', '5', '3', '7', '9', '1'], ['7', '1', '3', '9', '2', '4', '8', '5', '6'], ['9', '6', '1', '5', '3', '7', '2', '8', '4'], ['2', '8', '7', '4', '1', '9', '6', '3', '5'], ['3', '4', '5', '2', '8', '6', '1', '7', '9']], Expected: [['5', '3', '4', '6', '7', '8', '9', '1', '2'], ['6', '7', '2', '1', '9', '5', '3', '4', '8'], ['1', '9', '8', '3', '4', '2', '5', '6', '7'], ['8', '5', '9', '7', '6', '1', '4', '2', '3'], ['4', '2', '6', '8', '5', '3', '7', '9', '1'], ['7', '1', '3', '9', '2', '4', '8', '5', '6'], ['9', '6', '1', '5', '3', '7', '2', '8', '4'], ['2', '8', '7', '4', '1', '9', '6', '3', '5'], ['3', '4', '5', '2', '8', '6', '1', '7', '9']]\n",
      "Passed:True\n",
      "\n"
     ]
    }
   ],
   "execution_count": 7
  },
  {
   "metadata": {
    "ExecuteTime": {
     "end_time": "2025-05-30T03:19:53.538350Z",
     "start_time": "2025-05-30T03:19:53.533403Z"
    }
   },
   "cell_type": "code",
   "source": [
    "test_cases = {\n",
    "        \"1\": {\n",
    "            \"board\": [[\"5\",\"3\",\".\",\".\",\"7\",\".\",\".\",\".\",\".\"],[\"6\",\".\",\".\",\"1\",\"9\",\"5\",\".\",\".\",\".\"],[\".\",\"9\",\"8\",\".\",\".\",\".\",\".\",\"6\",\".\"],[\"8\",\".\",\".\",\".\",\"6\",\".\",\".\",\".\",\"3\"],[\"4\",\".\",\".\",\"8\",\".\",\"3\",\".\",\".\",\"1\"],[\"7\",\".\",\".\",\".\",\"2\",\".\",\".\",\".\",\"6\"],[\".\",\"6\",\".\",\".\",\".\",\".\",\"2\",\"8\",\".\"],[\".\",\".\",\".\",\"4\",\"1\",\"9\",\".\",\".\",\"5\"],[\".\",\".\",\".\",\".\",\"8\",\".\",\".\",\"7\",\"9\"]],\n",
    "            \"expected\": [[\"5\",\"3\",\"4\",\"6\",\"7\",\"8\",\"9\",\"1\",\"2\"],[\"6\",\"7\",\"2\",\"1\",\"9\",\"5\",\"3\",\"4\",\"8\"],[\"1\",\"9\",\"8\",\"3\",\"4\",\"2\",\"5\",\"6\",\"7\"],[\"8\",\"5\",\"9\",\"7\",\"6\",\"1\",\"4\",\"2\",\"3\"],[\"4\",\"2\",\"6\",\"8\",\"5\",\"3\",\"7\",\"9\",\"1\"],[\"7\",\"1\",\"3\",\"9\",\"2\",\"4\",\"8\",\"5\",\"6\"],[\"9\",\"6\",\"1\",\"5\",\"3\",\"7\",\"2\",\"8\",\"4\"],[\"2\",\"8\",\"7\",\"4\",\"1\",\"9\",\"6\",\"3\",\"5\"],[\"3\",\"4\",\"5\",\"2\",\"8\",\"6\",\"1\",\"7\",\"9\"]],\n",
    "        },\n",
    "    }\n",
    "for tk, targs in test_cases.items():\n",
    "    input = targs.pop(\"board\")\n",
    "    expected = targs.get(\"expected\")\n",
    "\n",
    "    print(\"Input Board\")\n",
    "    for row in input:\n",
    "        print(\"\".join(row))\n",
    "    print(\"Solution Board\")\n",
    "    for row in expected:\n",
    "        print(\"\".join(row))\n",
    "    print(\"--------------------------------\")"
   ],
   "id": "d238b1d05aba542a",
   "outputs": [
    {
     "name": "stdout",
     "output_type": "stream",
     "text": [
      "Input Board\n",
      "53..7....\n",
      "6..195...\n",
      ".98....6.\n",
      "8...6...3\n",
      "4..8.3..1\n",
      "7...2...6\n",
      ".6....28.\n",
      "...419..5\n",
      "....8..79\n",
      "Solution Board\n",
      "534678912\n",
      "672195348\n",
      "198342567\n",
      "859761423\n",
      "426853791\n",
      "713924856\n",
      "961537284\n",
      "287419635\n",
      "345286179\n",
      "--------------------------------\n"
     ]
    }
   ],
   "execution_count": 10
  }
 ],
 "metadata": {},
 "nbformat": 4,
 "nbformat_minor": 5
}
