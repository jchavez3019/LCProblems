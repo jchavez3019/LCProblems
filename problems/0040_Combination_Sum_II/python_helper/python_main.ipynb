{
 "cells": [
  {
   "metadata": {},
   "cell_type": "markdown",
   "source": [
    "# 40. Combination Sum II\n",
    "\n",
    "Given a collection of candidate numbers (`candidates`) and a target number (`target`), find all unique combinations in `candidates` where the candidate numbers sum to `target`.\n",
    "\n",
    "Each number in `candidates` may only be used once in the combination.\n",
    "\n",
    "Note: The solution set must not contain duplicate combinations.\n",
    "\n",
    "\n",
    "\n",
    "## Example 1:\n",
    "\n",
    "Input: candidates = [10,1,2,7,6,1,5], target = 8\n",
    "\n",
    "Output:\n",
    "[\n",
    "[1,1,6],\n",
    "[1,2,5],\n",
    "[1,7],\n",
    "[2,6]\n",
    "]\n",
    "\n",
    "# Example 2:\n",
    "\n",
    "\n",
    "Input: candidates = [2,5,2,1,2], target = 5\n",
    "\n",
    "Output:\n",
    "[\n",
    "[1,2,2],\n",
    "[5]\n",
    "]\n",
    "\n",
    "\n",
    "# Constraints:\n",
    "\n",
    "* `1 <= candidates.length <= 100`\n",
    "* `1 <= candidates[i] <= 50`\n",
    "* `1 <= target <= 30`"
   ],
   "id": "8d85ac28d97eea7b"
  },
  {
   "cell_type": "code",
   "execution_count": null,
   "id": "initial_id",
   "metadata": {
    "collapsed": true
   },
   "outputs": [],
   "source": [
    ""
   ]
  }
 ],
 "metadata": {
  "kernelspec": {
   "display_name": "Python 3",
   "language": "python",
   "name": "python3"
  },
  "language_info": {
   "codemirror_mode": {
    "name": "ipython",
    "version": 2
   },
   "file_extension": ".py",
   "mimetype": "text/x-python",
   "name": "python",
   "nbconvert_exporter": "python",
   "pygments_lexer": "ipython2",
   "version": "2.7.6"
  }
 },
 "nbformat": 4,
 "nbformat_minor": 5
}
