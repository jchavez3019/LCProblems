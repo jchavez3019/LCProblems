{
 "cells": [
  {
   "metadata": {},
   "cell_type": "markdown",
   "source": [
    "You are given a 0-indexed integer array nums of length n. You are initially standing at index 0. You can jump from index i to index j where i < j if:\n",
    "\n",
    "nums[i] <= nums[j] and nums[k] < nums[i] for all indexes k in the range i < k < j, or\n",
    "nums[i] > nums[j] and nums[k] >= nums[i] for all indexes k in the range i < k < j.\n",
    "You are also given an integer array costs of length n where costs[i] denotes the cost of jumping to index i.\n",
    "\n",
    "Return the minimum cost to jump to the index n - 1.\n",
    "\n",
    "\n",
    "\n",
    "Example 1:\n",
    "\n",
    "Input: nums = [3,2,4,4,1], costs = [3,7,6,4,2]\n",
    "Output: 8\n",
    "Explanation: You start at index 0.\n",
    "- Jump to index 2 with a cost of costs[2] = 6.\n",
    "- Jump to index 4 with a cost of costs[4] = 2.\n",
    "The total cost is 8. It can be proven that 8 is the minimum cost needed.\n",
    "Two other possible paths are from index 0 -> 1 -> 4 and index 0 -> 2 -> 3 -> 4.\n",
    "These have a total cost of 9 and 12, respectively.\n",
    "Example 2:\n",
    "\n",
    "Input: nums = [0,1,2], costs = [1,1,1]\n",
    "Output: 2\n",
    "Explanation: Start at index 0.\n",
    "- Jump to index 1 with a cost of costs[1] = 1.\n",
    "- Jump to index 2 with a cost of costs[2] = 1.\n",
    "The total cost is 2. Note that you cannot jump directly from index 0 to index 2 because nums[0] <= nums[1].\n",
    "\n",
    "\n",
    "Constraints:\n",
    "\n",
    "* n == nums.length == costs.length\n",
    "* 1 <= n <= 105\n",
    "* 0 <= nums[i], costs[i] <= 105"
   ],
   "id": "d121dd1fc4082be9"
  },
  {
   "metadata": {},
   "cell_type": "markdown",
   "source": [
    "# Monotonic Stacks\n",
    "\n",
    "Let us analyze condition 1) which states that nums[i] <= nums[j] and nums[k] < nums[i] for k in range i < k < j\n",
    "\n",
    "We will create a strictly monotonically decreasing stack to hold elements to be processed. If an element fulfills the conditions nums[j-1] <= nums[j], we will pop it. Since the stack will be strictly monotonically decreasing, suppose the next element in the stack is j-2, then if nums[j-2] <= nums[j], we will pop it as well. As the stack is strictly monotonically decreasing, it must have been that nums[j-2] > nums[j-1], so fulfilling the second part of the condition is a given.\n",
    "\n",
    "When an element gets popped, e.g. we pop j-2 when the current index is j, then we say that element j-2 points to element j.\n",
    "\n",
    "In the two following examples, `jump_idx` is an array denoting that the i'th idx in the array can jump to idx `jump_idx[i]` as the conditions for 1) or 2) have been fulfilled."
   ],
   "id": "90ee08603c408cf7"
  },
  {
   "metadata": {
    "ExecuteTime": {
     "end_time": "2025-04-14T19:52:27.292213Z",
     "start_time": "2025-04-14T19:52:27.288340Z"
    }
   },
   "cell_type": "code",
   "source": [
    "nums = [3,2,4,4,1]\n",
    "n = len(nums)\n",
    "mono_decreasing = []\n",
    "jump_idx = [n] * n\n",
    "\n",
    "for j in range(n):\n",
    "    while len(mono_decreasing) > 0 and nums[mono_decreasing[-1]] <= nums[j]:\n",
    "        jump_idx[mono_decreasing.pop()] = j\n",
    "\n",
    "    mono_decreasing.append(j)\n",
    "\n",
    "print(jump_idx)"
   ],
   "id": "672e3b3db7c713ee",
   "outputs": [
    {
     "name": "stdout",
     "output_type": "stream",
     "text": [
      "[2, 2, 3, 5, 5]\n"
     ]
    }
   ],
   "execution_count": 11
  },
  {
   "metadata": {},
   "cell_type": "markdown",
   "source": [
    "Let us analyze condition 2) which states that nums[i] > nums[j] and nums[k] >= nums[i] for k in range i < k < j\n",
    "\n",
    "We will create a monotonically increasing stack to hold elements to be processed. If an element fulfills the conditions nums[j-1] > nums[j], we will pop it. Since the stack will be monotonically increasing, suppose the next element in the stack is j-2, then if nums[j-2] > nums[j], we will pop it as well. As the stack is monotonically increasing, it must have been that nums[j-2] <= nums[j-1], so fulfilling the second part of the condition is a given.\n",
    "\n",
    "When an element gets popped, e.g. we pop j-2 when the current index is j, then we say that element j-2 points to element j."
   ],
   "id": "17e21ff28896466e"
  },
  {
   "metadata": {
    "ExecuteTime": {
     "end_time": "2025-04-14T19:52:27.348514Z",
     "start_time": "2025-04-14T19:52:27.344401Z"
    }
   },
   "cell_type": "code",
   "source": [
    "nums = [3,2,4,4,1]\n",
    "n = len(nums)\n",
    "mono_increasing = []\n",
    "jump_idx = [n] * n\n",
    "\n",
    "for j in range(n):\n",
    "    while len(mono_increasing) > 0 and nums[mono_increasing[-1]] > nums[j]:\n",
    "        jump_idx[mono_increasing.pop()] = j\n",
    "\n",
    "    mono_increasing.append(j)\n",
    "\n",
    "print(jump_idx)"
   ],
   "id": "6cda6e8bddaedc45",
   "outputs": [
    {
     "name": "stdout",
     "output_type": "stream",
     "text": [
      "[1, 4, 4, 4, 5]\n"
     ]
    }
   ],
   "execution_count": 12
  },
  {
   "metadata": {},
   "cell_type": "markdown",
   "source": [
    "# Dynamic Programming\n",
    "\n",
    "Once we know which positions each element can jump to, we can employ dynamic programming to find the minimum cost to reach the end of the array.\n",
    "\n",
    "For the range $i\\in[n]$, we say that the cost of reaching element $j$ is $tab[i] + cost[j]$ if $tab[j]$ was not filled before. $tab[i]$ is the current minimal cost of reaching element $i$. If $tab[j]$ has been filled before, we must compare our best answers.\n",
    "\n",
    "At the end, the minimal cost will be in $tab[n-1]$ which represents the minimal cost to reach the last element."
   ],
   "id": "a5b2d37453916e04"
  },
  {
   "metadata": {
    "ExecuteTime": {
     "end_time": "2025-04-14T19:52:27.399442Z",
     "start_time": "2025-04-14T19:52:27.396132Z"
    }
   },
   "cell_type": "code",
   "source": [
    "# imports\n",
    "from typing import *"
   ],
   "id": "79b188a820aa507a",
   "outputs": [],
   "execution_count": 13
  },
  {
   "metadata": {
    "ExecuteTime": {
     "end_time": "2025-04-14T19:52:27.452366Z",
     "start_time": "2025-04-14T19:52:27.445948Z"
    }
   },
   "cell_type": "code",
   "source": [
    "class Solution:\n",
    "\n",
    "    def getCanJump(self, nums: List[int]) -> Tuple[List[int], List[int]]:\n",
    "        n = len(nums)\n",
    "        mono_decreasing = []\n",
    "        mono_increasing = []\n",
    "        jump_idx_one = [n] * n\n",
    "        jump_idx_two = [n] * n\n",
    "        for j in range(n):\n",
    "            while len(mono_decreasing) > 0 and nums[mono_decreasing[-1]] <= nums[j]:\n",
    "                jump_idx_one[mono_decreasing.pop()] = j\n",
    "            while len(mono_increasing) > 0 and nums[mono_increasing[-1]] > nums[j]:\n",
    "                jump_idx_two[mono_increasing.pop()] = j\n",
    "\n",
    "            mono_decreasing.append(j)\n",
    "            mono_increasing.append(j)\n",
    "\n",
    "        return jump_idx_one, jump_idx_two\n",
    "\n",
    "    def minCost(self, nums: List[int], costs: List[int], verbose:bool=False) -> int:\n",
    "        n = len(nums)\n",
    "        if n == 1:\n",
    "            # base case\n",
    "            return 0\n",
    "\n",
    "        jump_idx_one, jump_idx_two = self.getCanJump(nums)\n",
    "\n",
    "        tab = [float('inf') for _ in range(n)]\n",
    "        tab[0] = costs[0] = 0  # we start at idx=0, so no cost for reaching this state\n",
    "\n",
    "        for i in range(n):\n",
    "            for j in (jump_idx_one[i], jump_idx_two[i]):\n",
    "                if j < n:\n",
    "                    # either element j already has the minimum cost of reaching the end,\n",
    "                    # or the element j achieves a minimal cost when the cost of reaching\n",
    "                    # element j from element i is accrued plus the minimal cost of\n",
    "                    # reaching element i\n",
    "                    tab[j] = min(tab[j], costs[j] + tab[i])\n",
    "\n",
    "        if verbose:\n",
    "            print(f\"jump_idx_one:\\n{jump_idx_one}\")\n",
    "            print(f\"jump_idx_two:\\n{jump_idx_two}\")\n",
    "            print(f\"tab:\\n{tab}\")\n",
    "\n",
    "        return tab[-1]\n",
    "\n",
    "def main():\n",
    "    test_cases = {\n",
    "        \"1\": {\n",
    "            \"nums\": [3,2,4,4,1],\n",
    "            \"costs\": [3,7,6,4,2],\n",
    "            \"expected\": 8\n",
    "        },\n",
    "        \"2\": {\n",
    "            \"nums\": [5,0,2,2,1],\n",
    "            \"costs\": [1,2,4,4,0],\n",
    "            \"expected\": 6\n",
    "        },\n",
    "        \"3\": {\n",
    "            \"nums\": [2,4,2,2],\n",
    "            \"costs\": [0,2,1,5],\n",
    "            \"expected\": 8\n",
    "        }\n",
    "    }\n",
    "\n",
    "    solution = Solution()\n",
    "\n",
    "    for tk, targs in test_cases.items():\n",
    "        expected = targs.pop(\"expected\", None)\n",
    "        ret = solution.minCost(**targs, verbose=True)\n",
    "        if expected is not None:\n",
    "            passed = expected == ret\n",
    "        else:\n",
    "            passed = None\n",
    "        print(f\"test case {tk}: {targs}\\nReturned: {ret}, Expected: {expected}\\nPassed:{passed}\")\n",
    "\n",
    "main()"
   ],
   "id": "fc9a39b7fca94c37",
   "outputs": [
    {
     "name": "stdout",
     "output_type": "stream",
     "text": [
      "jump_idx_one:\n",
      "[2, 2, 3, 5, 5]\n",
      "jump_idx_two:\n",
      "[1, 4, 4, 4, 5]\n",
      "tab:\n",
      "[0, 7, 6, 10, 8]\n",
      "test case 1: {'nums': [3, 2, 4, 4, 1], 'costs': [0, 7, 6, 4, 2]}\n",
      "Returned: 8, Expected: 8\n",
      "Passed:True\n",
      "jump_idx_one:\n",
      "[5, 2, 3, 5, 5]\n",
      "jump_idx_two:\n",
      "[1, 5, 4, 4, 5]\n",
      "tab:\n",
      "[0, 2, 6, 10, 6]\n",
      "test case 2: {'nums': [5, 0, 2, 2, 1], 'costs': [0, 2, 4, 4, 0]}\n",
      "Returned: 6, Expected: 6\n",
      "Passed:True\n",
      "jump_idx_one:\n",
      "[1, 4, 3, 4]\n",
      "jump_idx_two:\n",
      "[4, 2, 4, 4]\n",
      "tab:\n",
      "[0, 2, 3, 8]\n",
      "test case 3: {'nums': [2, 4, 2, 2], 'costs': [0, 2, 1, 5]}\n",
      "Returned: 8, Expected: 8\n",
      "Passed:True\n"
     ]
    }
   ],
   "execution_count": 14
  }
 ],
 "metadata": {
  "kernelspec": {
   "name": "python3",
   "language": "python",
   "display_name": "Python 3 (ipykernel)"
  }
 },
 "nbformat": 5,
 "nbformat_minor": 9
}
